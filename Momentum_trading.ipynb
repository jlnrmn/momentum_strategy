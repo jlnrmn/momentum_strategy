{
 "cells": [
  {
   "cell_type": "code",
   "execution_count": 1,
   "metadata": {},
   "outputs": [
    {
     "data": {
      "text/html": [
       "<div>\n",
       "<style scoped>\n",
       "    .dataframe tbody tr th:only-of-type {\n",
       "        vertical-align: middle;\n",
       "    }\n",
       "\n",
       "    .dataframe tbody tr th {\n",
       "        vertical-align: top;\n",
       "    }\n",
       "\n",
       "    .dataframe thead th {\n",
       "        text-align: right;\n",
       "    }\n",
       "</style>\n",
       "<table border=\"1\" class=\"dataframe\">\n",
       "  <thead>\n",
       "    <tr style=\"text-align: right;\">\n",
       "      <th></th>\n",
       "      <th>Date</th>\n",
       "      <th>revenue</th>\n",
       "      <th>pred_surprise</th>\n",
       "      <th>GDP</th>\n",
       "      <th>Name</th>\n",
       "      <th>Sector</th>\n",
       "      <th>Sub-sector</th>\n",
       "      <th>Industry</th>\n",
       "    </tr>\n",
       "  </thead>\n",
       "  <tbody>\n",
       "    <tr>\n",
       "      <th>1</th>\n",
       "      <td>2008-01-04</td>\n",
       "      <td>1448.000000</td>\n",
       "      <td>-0.123</td>\n",
       "      <td>15752.308</td>\n",
       "      <td>AGILENT TECH</td>\n",
       "      <td>Manufacturing</td>\n",
       "      <td>Computer and Electronic Product Manufacturing</td>\n",
       "      <td>Navigational, Measuring, Electromedical, and C...</td>\n",
       "    </tr>\n",
       "    <tr>\n",
       "      <th>2</th>\n",
       "      <td>2005-01-10</td>\n",
       "      <td>1194.000000</td>\n",
       "      <td>-0.148</td>\n",
       "      <td>15066.597</td>\n",
       "      <td>AGILENT TECH</td>\n",
       "      <td>Manufacturing</td>\n",
       "      <td>Computer and Electronic Product Manufacturing</td>\n",
       "      <td>Navigational, Measuring, Electromedical, and C...</td>\n",
       "    </tr>\n",
       "    <tr>\n",
       "      <th>3</th>\n",
       "      <td>2017-01-04</td>\n",
       "      <td>1110.000000</td>\n",
       "      <td>0.003</td>\n",
       "      <td>17995.150</td>\n",
       "      <td>AGILENT TECH</td>\n",
       "      <td>Manufacturing</td>\n",
       "      <td>Computer and Electronic Product Manufacturing</td>\n",
       "      <td>Navigational, Measuring, Electromedical, and C...</td>\n",
       "    </tr>\n",
       "    <tr>\n",
       "      <th>4</th>\n",
       "      <td>2003-01-01</td>\n",
       "      <td>1448.666667</td>\n",
       "      <td>-0.140</td>\n",
       "      <td>13634.253</td>\n",
       "      <td>AGILENT TECH</td>\n",
       "      <td>Manufacturing</td>\n",
       "      <td>Computer and Electronic Product Manufacturing</td>\n",
       "      <td>Navigational, Measuring, Electromedical, and C...</td>\n",
       "    </tr>\n",
       "    <tr>\n",
       "      <th>5</th>\n",
       "      <td>2012-01-07</td>\n",
       "      <td>1752.333333</td>\n",
       "      <td>0.129</td>\n",
       "      <td>16220.667</td>\n",
       "      <td>AGILENT TECH</td>\n",
       "      <td>Manufacturing</td>\n",
       "      <td>Computer and Electronic Product Manufacturing</td>\n",
       "      <td>Navigational, Measuring, Electromedical, and C...</td>\n",
       "    </tr>\n",
       "  </tbody>\n",
       "</table>\n",
       "</div>"
      ],
      "text/plain": [
       "        Date      revenue  pred_surprise        GDP          Name  \\\n",
       "1 2008-01-04  1448.000000         -0.123  15752.308  AGILENT TECH   \n",
       "2 2005-01-10  1194.000000         -0.148  15066.597  AGILENT TECH   \n",
       "3 2017-01-04  1110.000000          0.003  17995.150  AGILENT TECH   \n",
       "4 2003-01-01  1448.666667         -0.140  13634.253  AGILENT TECH   \n",
       "5 2012-01-07  1752.333333          0.129  16220.667  AGILENT TECH   \n",
       "\n",
       "          Sector                                     Sub-sector  \\\n",
       "1  Manufacturing  Computer and Electronic Product Manufacturing   \n",
       "2  Manufacturing  Computer and Electronic Product Manufacturing   \n",
       "3  Manufacturing  Computer and Electronic Product Manufacturing   \n",
       "4  Manufacturing  Computer and Electronic Product Manufacturing   \n",
       "5  Manufacturing  Computer and Electronic Product Manufacturing   \n",
       "\n",
       "                                            Industry  \n",
       "1  Navigational, Measuring, Electromedical, and C...  \n",
       "2  Navigational, Measuring, Electromedical, and C...  \n",
       "3  Navigational, Measuring, Electromedical, and C...  \n",
       "4  Navigational, Measuring, Electromedical, and C...  \n",
       "5  Navigational, Measuring, Electromedical, and C...  "
      ]
     },
     "execution_count": 1,
     "metadata": {},
     "output_type": "execute_result"
    }
   ],
   "source": [
    "import pandas as pd\n",
    "import numpy as np\n",
    "import matplotlib.pyplot as plt\n",
    "import datetime\n",
    "from sklearn.preprocessing import StandardScaler\n",
    "import warnings\n",
    "warnings.filterwarnings('ignore')\n",
    "from sklearn.linear_model import LinearRegression\n",
    "from sklearn.model_selection import train_test_split\n",
    "\n",
    "\n",
    "df = pd.read_csv(\"base_earnings.csv\", index_col = 'Unnamed: 0')\n",
    "df.Date = pd.to_datetime(df.Date)\n",
    "#.dt.strftime('%Y-%d-%m')\n",
    "df.Name = df.Name.str.replace('/d','')\n",
    "df.Name = df.Name.str.replace(' /d','')\n",
    "\n",
    "\"\"\"df['year'] = df['Date'].dt.year\n",
    "df['month'] = df['Date'].dt.month\n",
    "df['week'] = df['Date'].dt.week\n",
    "df['day'] = df['Date'].dt.day\"\"\"\n",
    "\n",
    "df = df.drop(columns= {'RIC', 'mean_estimate'})\n",
    "#df = df.drop(columns= {'Date', 'Industry', 'Sub-sector', 'Sector'})\n",
    "df.head()"
   ]
  },
  {
   "cell_type": "markdown",
   "metadata": {},
   "source": [
    "# Filter by sector/company"
   ]
  },
  {
   "cell_type": "code",
   "execution_count": 2,
   "metadata": {},
   "outputs": [
    {
     "data": {
      "text/html": [
       "<div>\n",
       "<style scoped>\n",
       "    .dataframe tbody tr th:only-of-type {\n",
       "        vertical-align: middle;\n",
       "    }\n",
       "\n",
       "    .dataframe tbody tr th {\n",
       "        vertical-align: top;\n",
       "    }\n",
       "\n",
       "    .dataframe thead th {\n",
       "        text-align: right;\n",
       "    }\n",
       "</style>\n",
       "<table border=\"1\" class=\"dataframe\">\n",
       "  <thead>\n",
       "    <tr style=\"text-align: right;\">\n",
       "      <th></th>\n",
       "      <th>index</th>\n",
       "      <th>Sector</th>\n",
       "    </tr>\n",
       "  </thead>\n",
       "  <tbody>\n",
       "    <tr>\n",
       "      <th>0</th>\n",
       "      <td>Manufacturing</td>\n",
       "      <td>38670</td>\n",
       "    </tr>\n",
       "    <tr>\n",
       "      <th>1</th>\n",
       "      <td>Finance and Insurance</td>\n",
       "      <td>7373</td>\n",
       "    </tr>\n",
       "    <tr>\n",
       "      <th>2</th>\n",
       "      <td>Professional, Scientific, and Technical Services</td>\n",
       "      <td>5865</td>\n",
       "    </tr>\n",
       "    <tr>\n",
       "      <th>3</th>\n",
       "      <td>Real Estate and Rental and Leasing</td>\n",
       "      <td>5699</td>\n",
       "    </tr>\n",
       "    <tr>\n",
       "      <th>4</th>\n",
       "      <td>Retail Trade</td>\n",
       "      <td>5473</td>\n",
       "    </tr>\n",
       "    <tr>\n",
       "      <th>5</th>\n",
       "      <td>Information</td>\n",
       "      <td>5376</td>\n",
       "    </tr>\n",
       "    <tr>\n",
       "      <th>6</th>\n",
       "      <td>Mining, Quarrying, and Oil and Gas Extraction</td>\n",
       "      <td>4099</td>\n",
       "    </tr>\n",
       "    <tr>\n",
       "      <th>7</th>\n",
       "      <td>Utilities</td>\n",
       "      <td>3627</td>\n",
       "    </tr>\n",
       "    <tr>\n",
       "      <th>8</th>\n",
       "      <td>Transportation and Warehousing</td>\n",
       "      <td>3245</td>\n",
       "    </tr>\n",
       "    <tr>\n",
       "      <th>9</th>\n",
       "      <td>Wholesale Trade</td>\n",
       "      <td>2562</td>\n",
       "    </tr>\n",
       "    <tr>\n",
       "      <th>10</th>\n",
       "      <td>Administrative and Support and Waste Managemen...</td>\n",
       "      <td>2225</td>\n",
       "    </tr>\n",
       "    <tr>\n",
       "      <th>11</th>\n",
       "      <td>Health Care and Social Assistance</td>\n",
       "      <td>1875</td>\n",
       "    </tr>\n",
       "    <tr>\n",
       "      <th>12</th>\n",
       "      <td>Accommodation and Food Services</td>\n",
       "      <td>1340</td>\n",
       "    </tr>\n",
       "    <tr>\n",
       "      <th>13</th>\n",
       "      <td>Construction</td>\n",
       "      <td>1279</td>\n",
       "    </tr>\n",
       "    <tr>\n",
       "      <th>14</th>\n",
       "      <td>Other Services (except Public Administration)</td>\n",
       "      <td>595</td>\n",
       "    </tr>\n",
       "    <tr>\n",
       "      <th>15</th>\n",
       "      <td>Educational Services</td>\n",
       "      <td>235</td>\n",
       "    </tr>\n",
       "    <tr>\n",
       "      <th>16</th>\n",
       "      <td>Agriculture, Forestry, Fishing and Hunting</td>\n",
       "      <td>93</td>\n",
       "    </tr>\n",
       "  </tbody>\n",
       "</table>\n",
       "</div>"
      ],
      "text/plain": [
       "                                                index  Sector\n",
       "0                                       Manufacturing   38670\n",
       "1                               Finance and Insurance    7373\n",
       "2    Professional, Scientific, and Technical Services    5865\n",
       "3                  Real Estate and Rental and Leasing    5699\n",
       "4                                        Retail Trade    5473\n",
       "5                                         Information    5376\n",
       "6       Mining, Quarrying, and Oil and Gas Extraction    4099\n",
       "7                                           Utilities    3627\n",
       "8                      Transportation and Warehousing    3245\n",
       "9                                     Wholesale Trade    2562\n",
       "10  Administrative and Support and Waste Managemen...    2225\n",
       "11                  Health Care and Social Assistance    1875\n",
       "12                    Accommodation and Food Services    1340\n",
       "13                                       Construction    1279\n",
       "14      Other Services (except Public Administration)     595\n",
       "15                               Educational Services     235\n",
       "16         Agriculture, Forestry, Fishing and Hunting      93"
      ]
     },
     "execution_count": 2,
     "metadata": {},
     "output_type": "execute_result"
    }
   ],
   "source": [
    "pd.value_counts(df.Sector).to_frame().reset_index()"
   ]
  },
  {
   "cell_type": "code",
   "execution_count": 11,
   "metadata": {},
   "outputs": [
    {
     "data": {
      "text/html": [
       "<div>\n",
       "<style scoped>\n",
       "    .dataframe tbody tr th:only-of-type {\n",
       "        vertical-align: middle;\n",
       "    }\n",
       "\n",
       "    .dataframe tbody tr th {\n",
       "        vertical-align: top;\n",
       "    }\n",
       "\n",
       "    .dataframe thead th {\n",
       "        text-align: right;\n",
       "    }\n",
       "</style>\n",
       "<table border=\"1\" class=\"dataframe\">\n",
       "  <thead>\n",
       "    <tr style=\"text-align: right;\">\n",
       "      <th></th>\n",
       "      <th>index</th>\n",
       "      <th>Sub-sector</th>\n",
       "    </tr>\n",
       "  </thead>\n",
       "  <tbody>\n",
       "    <tr>\n",
       "      <th>0</th>\n",
       "      <td>Computer and Electronic Product Manufacturing</td>\n",
       "      <td>11209</td>\n",
       "    </tr>\n",
       "    <tr>\n",
       "      <th>1</th>\n",
       "      <td>Chemical Manufacturing</td>\n",
       "      <td>6093</td>\n",
       "    </tr>\n",
       "    <tr>\n",
       "      <th>2</th>\n",
       "      <td>Professional, Scientific, and Technical Services</td>\n",
       "      <td>5865</td>\n",
       "    </tr>\n",
       "    <tr>\n",
       "      <th>3</th>\n",
       "      <td>Real Estate</td>\n",
       "      <td>5410</td>\n",
       "    </tr>\n",
       "    <tr>\n",
       "      <th>4</th>\n",
       "      <td>Insurance Carriers and Related Activities</td>\n",
       "      <td>4031</td>\n",
       "    </tr>\n",
       "    <tr>\n",
       "      <th>...</th>\n",
       "      <td>...</td>\n",
       "      <td>...</td>\n",
       "    </tr>\n",
       "    <tr>\n",
       "      <th>67</th>\n",
       "      <td>Miscellaneous Store Retailers</td>\n",
       "      <td>115</td>\n",
       "    </tr>\n",
       "    <tr>\n",
       "      <th>68</th>\n",
       "      <td>Repair and Maintenance</td>\n",
       "      <td>113</td>\n",
       "    </tr>\n",
       "    <tr>\n",
       "      <th>69</th>\n",
       "      <td>Animal Production</td>\n",
       "      <td>93</td>\n",
       "    </tr>\n",
       "    <tr>\n",
       "      <th>70</th>\n",
       "      <td>Nursing and Residential Care Facilities</td>\n",
       "      <td>91</td>\n",
       "    </tr>\n",
       "    <tr>\n",
       "      <th>71</th>\n",
       "      <td>Social Assistance</td>\n",
       "      <td>66</td>\n",
       "    </tr>\n",
       "  </tbody>\n",
       "</table>\n",
       "<p>72 rows × 2 columns</p>\n",
       "</div>"
      ],
      "text/plain": [
       "                                               index  Sub-sector\n",
       "0      Computer and Electronic Product Manufacturing       11209\n",
       "1                             Chemical Manufacturing        6093\n",
       "2   Professional, Scientific, and Technical Services        5865\n",
       "3                                        Real Estate        5410\n",
       "4          Insurance Carriers and Related Activities        4031\n",
       "..                                               ...         ...\n",
       "67                     Miscellaneous Store Retailers         115\n",
       "68                            Repair and Maintenance         113\n",
       "69                                 Animal Production          93\n",
       "70           Nursing and Residential Care Facilities          91\n",
       "71                                 Social Assistance          66\n",
       "\n",
       "[72 rows x 2 columns]"
      ]
     },
     "execution_count": 11,
     "metadata": {},
     "output_type": "execute_result"
    }
   ],
   "source": [
    "pd.value_counts(df['Sub-sector']).to_frame().reset_index()"
   ]
  },
  {
   "cell_type": "code",
   "execution_count": 3,
   "metadata": {},
   "outputs": [
    {
     "data": {
      "text/html": [
       "<div>\n",
       "<style scoped>\n",
       "    .dataframe tbody tr th:only-of-type {\n",
       "        vertical-align: middle;\n",
       "    }\n",
       "\n",
       "    .dataframe tbody tr th {\n",
       "        vertical-align: top;\n",
       "    }\n",
       "\n",
       "    .dataframe thead th {\n",
       "        text-align: right;\n",
       "    }\n",
       "</style>\n",
       "<table border=\"1\" class=\"dataframe\">\n",
       "  <thead>\n",
       "    <tr style=\"text-align: right;\">\n",
       "      <th></th>\n",
       "      <th>Name</th>\n",
       "      <th>Sector</th>\n",
       "      <th>Sub-sector</th>\n",
       "      <th>pred_surprise</th>\n",
       "    </tr>\n",
       "  </thead>\n",
       "  <tbody>\n",
       "    <tr>\n",
       "      <th>0</th>\n",
       "      <td>QUALYS INC</td>\n",
       "      <td>Professional, Scientific, and Technical Services</td>\n",
       "      <td>Professional, Scientific, and Technical Services</td>\n",
       "      <td>-23.238138</td>\n",
       "    </tr>\n",
       "    <tr>\n",
       "      <th>1</th>\n",
       "      <td>CAL-MAINE FOOD</td>\n",
       "      <td>Agriculture, Forestry, Fishing and Hunting</td>\n",
       "      <td>Animal Production</td>\n",
       "      <td>-13.641853</td>\n",
       "    </tr>\n",
       "    <tr>\n",
       "      <th>2</th>\n",
       "      <td>ENANTA PHARMAC</td>\n",
       "      <td>Manufacturing</td>\n",
       "      <td>Chemical Manufacturing</td>\n",
       "      <td>-8.756000</td>\n",
       "    </tr>\n",
       "    <tr>\n",
       "      <th>3</th>\n",
       "      <td>SHAKE SHACK IN</td>\n",
       "      <td>Accommodation and Food Services</td>\n",
       "      <td>Food Services and Drinking Places</td>\n",
       "      <td>-7.329185</td>\n",
       "    </tr>\n",
       "    <tr>\n",
       "      <th>4</th>\n",
       "      <td>ENDO INTERNATI</td>\n",
       "      <td>Manufacturing</td>\n",
       "      <td>Chemical Manufacturing</td>\n",
       "      <td>-6.595000</td>\n",
       "    </tr>\n",
       "    <tr>\n",
       "      <th>5</th>\n",
       "      <td>JOHN BEAN TEC</td>\n",
       "      <td>Manufacturing</td>\n",
       "      <td>Machinery Manufacturing</td>\n",
       "      <td>-6.403088</td>\n",
       "    </tr>\n",
       "    <tr>\n",
       "      <th>6</th>\n",
       "      <td>OIL STATES INT</td>\n",
       "      <td>Manufacturing</td>\n",
       "      <td>Machinery Manufacturing</td>\n",
       "      <td>-5.924765</td>\n",
       "    </tr>\n",
       "    <tr>\n",
       "      <th>7</th>\n",
       "      <td>GARRET MOTIN I</td>\n",
       "      <td>Manufacturing</td>\n",
       "      <td>Transportation Equipment Manufacturing</td>\n",
       "      <td>-5.019429</td>\n",
       "    </tr>\n",
       "    <tr>\n",
       "      <th>8</th>\n",
       "      <td>LEGGETT&amp; PLATT</td>\n",
       "      <td>Manufacturing</td>\n",
       "      <td>Furniture and Related Product Manufacturing</td>\n",
       "      <td>21.474824</td>\n",
       "    </tr>\n",
       "  </tbody>\n",
       "</table>\n",
       "</div>"
      ],
      "text/plain": [
       "             Name                                            Sector  \\\n",
       "0      QUALYS INC  Professional, Scientific, and Technical Services   \n",
       "1  CAL-MAINE FOOD        Agriculture, Forestry, Fishing and Hunting   \n",
       "2  ENANTA PHARMAC                                     Manufacturing   \n",
       "3  SHAKE SHACK IN                   Accommodation and Food Services   \n",
       "4  ENDO INTERNATI                                     Manufacturing   \n",
       "5   JOHN BEAN TEC                                     Manufacturing   \n",
       "6  OIL STATES INT                                     Manufacturing   \n",
       "7  GARRET MOTIN I                                     Manufacturing   \n",
       "8  LEGGETT& PLATT                                     Manufacturing   \n",
       "\n",
       "                                         Sub-sector  pred_surprise  \n",
       "0  Professional, Scientific, and Technical Services     -23.238138  \n",
       "1                                 Animal Production     -13.641853  \n",
       "2                            Chemical Manufacturing      -8.756000  \n",
       "3                 Food Services and Drinking Places      -7.329185  \n",
       "4                            Chemical Manufacturing      -6.595000  \n",
       "5                           Machinery Manufacturing      -6.403088  \n",
       "6                           Machinery Manufacturing      -5.924765  \n",
       "7            Transportation Equipment Manufacturing      -5.019429  \n",
       "8       Furniture and Related Product Manufacturing      21.474824  "
      ]
     },
     "execution_count": 3,
     "metadata": {},
     "output_type": "execute_result"
    }
   ],
   "source": [
    "df_filter = df.loc[df.Date > '2010-01-01']\n",
    "group1 = df_filter.groupby(['Name','Sector', 'Sub-sector'])[['pred_surprise']].agg(np.mean)\n",
    "group1 = group1.loc[(group1.pred_surprise < -5) | (group1.pred_surprise > 5)]\n",
    "group1 = group1.sort_values('pred_surprise')\n",
    "group1.reset_index(inplace=True)\n",
    "group1"
   ]
  },
  {
   "cell_type": "markdown",
   "metadata": {},
   "source": [
    "### by name"
   ]
  },
  {
   "cell_type": "code",
   "execution_count": 4,
   "metadata": {},
   "outputs": [
    {
     "data": {
      "text/html": [
       "<div>\n",
       "<style scoped>\n",
       "    .dataframe tbody tr th:only-of-type {\n",
       "        vertical-align: middle;\n",
       "    }\n",
       "\n",
       "    .dataframe tbody tr th {\n",
       "        vertical-align: top;\n",
       "    }\n",
       "\n",
       "    .dataframe thead th {\n",
       "        text-align: right;\n",
       "    }\n",
       "</style>\n",
       "<table border=\"1\" class=\"dataframe\">\n",
       "  <thead>\n",
       "    <tr style=\"text-align: right;\">\n",
       "      <th></th>\n",
       "      <th>revenue</th>\n",
       "      <th>GDP</th>\n",
       "      <th>Name</th>\n",
       "    </tr>\n",
       "  </thead>\n",
       "  <tbody>\n",
       "    <tr>\n",
       "      <th>0</th>\n",
       "      <td>266.916</td>\n",
       "      <td>9358.289</td>\n",
       "      <td>LEGGETT&amp; PLATT</td>\n",
       "    </tr>\n",
       "    <tr>\n",
       "      <th>1</th>\n",
       "      <td>277.105</td>\n",
       "      <td>9392.251</td>\n",
       "      <td>LEGGETT&amp; PLATT</td>\n",
       "    </tr>\n",
       "    <tr>\n",
       "      <th>2</th>\n",
       "      <td>285.004</td>\n",
       "      <td>9398.499</td>\n",
       "      <td>LEGGETT&amp; PLATT</td>\n",
       "    </tr>\n",
       "    <tr>\n",
       "      <th>3</th>\n",
       "      <td>259.599</td>\n",
       "      <td>9312.937</td>\n",
       "      <td>LEGGETT&amp; PLATT</td>\n",
       "    </tr>\n",
       "    <tr>\n",
       "      <th>4</th>\n",
       "      <td>263.153</td>\n",
       "      <td>9269.367</td>\n",
       "      <td>LEGGETT&amp; PLATT</td>\n",
       "    </tr>\n",
       "    <tr>\n",
       "      <th>...</th>\n",
       "      <td>...</td>\n",
       "      <td>...</td>\n",
       "      <td>...</td>\n",
       "    </tr>\n",
       "    <tr>\n",
       "      <th>460</th>\n",
       "      <td>119.647</td>\n",
       "      <td>18664.973</td>\n",
       "      <td>SHAKE SHACK IN</td>\n",
       "    </tr>\n",
       "    <tr>\n",
       "      <th>461</th>\n",
       "      <td>784.000</td>\n",
       "      <td>18664.973</td>\n",
       "      <td>GARRET MOTIN I</td>\n",
       "    </tr>\n",
       "    <tr>\n",
       "      <th>462</th>\n",
       "      <td>1091.500</td>\n",
       "      <td>18664.973</td>\n",
       "      <td>LEGGETT&amp; PLATT</td>\n",
       "    </tr>\n",
       "    <tr>\n",
       "      <th>463</th>\n",
       "      <td>274.594</td>\n",
       "      <td>18664.973</td>\n",
       "      <td>OIL STATES INT</td>\n",
       "    </tr>\n",
       "    <tr>\n",
       "      <th>464</th>\n",
       "      <td>481.900</td>\n",
       "      <td>18664.973</td>\n",
       "      <td>JOHN BEAN TEC</td>\n",
       "    </tr>\n",
       "  </tbody>\n",
       "</table>\n",
       "<p>465 rows × 3 columns</p>\n",
       "</div>"
      ],
      "text/plain": [
       "      revenue        GDP            Name\n",
       "0     266.916   9358.289  LEGGETT& PLATT\n",
       "1     277.105   9392.251  LEGGETT& PLATT\n",
       "2     285.004   9398.499  LEGGETT& PLATT\n",
       "3     259.599   9312.937  LEGGETT& PLATT\n",
       "4     263.153   9269.367  LEGGETT& PLATT\n",
       "..        ...        ...             ...\n",
       "460   119.647  18664.973  SHAKE SHACK IN\n",
       "461   784.000  18664.973  GARRET MOTIN I\n",
       "462  1091.500  18664.973  LEGGETT& PLATT\n",
       "463   274.594  18664.973  OIL STATES INT\n",
       "464   481.900  18664.973   JOHN BEAN TEC\n",
       "\n",
       "[465 rows x 3 columns]"
      ]
     },
     "execution_count": 4,
     "metadata": {},
     "output_type": "execute_result"
    }
   ],
   "source": [
    "df_reg = df.loc[df.Name.isin(group1.Name)]\n",
    "df_reg = df_reg.drop(columns= {'Sub-sector', 'Industry', 'pred_surprise','Sector'})\n",
    "df_reg = df_reg.sort_values('Date')\n",
    "#df_reg['GDP_var'] = df_reg['GDP'].pct_change(1)\n",
    "df_reg['revenue_var'] = df_reg['revenue'].pct_change(1)\n",
    "df_reg = df_reg.drop(columns= {'Date', 'revenue_var'})\n",
    "df_reg = df_reg.replace([np.inf, -np.inf], np.nan)\n",
    "df_reg.dropna(inplace= True)\n",
    "df_reg.reset_index(inplace= True, drop= True)\n",
    "df_reg"
   ]
  },
  {
   "cell_type": "code",
   "execution_count": 6,
   "metadata": {},
   "outputs": [
    {
     "data": {
      "text/html": [
       "<div>\n",
       "<style scoped>\n",
       "    .dataframe tbody tr th:only-of-type {\n",
       "        vertical-align: middle;\n",
       "    }\n",
       "\n",
       "    .dataframe tbody tr th {\n",
       "        vertical-align: top;\n",
       "    }\n",
       "\n",
       "    .dataframe thead th {\n",
       "        text-align: right;\n",
       "    }\n",
       "</style>\n",
       "<table border=\"1\" class=\"dataframe\">\n",
       "  <thead>\n",
       "    <tr style=\"text-align: right;\">\n",
       "      <th></th>\n",
       "      <th>train</th>\n",
       "      <th>test</th>\n",
       "    </tr>\n",
       "  </thead>\n",
       "  <tbody>\n",
       "    <tr>\n",
       "      <th>QUALYS INC</th>\n",
       "      <td>0.9782</td>\n",
       "      <td>0.9782</td>\n",
       "    </tr>\n",
       "    <tr>\n",
       "      <th>SHAKE SHACK IN</th>\n",
       "      <td>0.9575</td>\n",
       "      <td>0.9575</td>\n",
       "    </tr>\n",
       "    <tr>\n",
       "      <th>ENDO INTERNATI</th>\n",
       "      <td>0.9411</td>\n",
       "      <td>0.9411</td>\n",
       "    </tr>\n",
       "    <tr>\n",
       "      <th>CAL-MAINE FOOD</th>\n",
       "      <td>0.7192</td>\n",
       "      <td>0.7192</td>\n",
       "    </tr>\n",
       "    <tr>\n",
       "      <th>JOHN BEAN TEC</th>\n",
       "      <td>0.7010</td>\n",
       "      <td>0.7010</td>\n",
       "    </tr>\n",
       "    <tr>\n",
       "      <th>GARRET MOTIN I</th>\n",
       "      <td>0.6932</td>\n",
       "      <td>0.6932</td>\n",
       "    </tr>\n",
       "    <tr>\n",
       "      <th>ENANTA PHARMAC</th>\n",
       "      <td>0.5155</td>\n",
       "      <td>0.5155</td>\n",
       "    </tr>\n",
       "    <tr>\n",
       "      <th>LEGGETT&amp; PLATT</th>\n",
       "      <td>0.5021</td>\n",
       "      <td>0.5021</td>\n",
       "    </tr>\n",
       "    <tr>\n",
       "      <th>OIL STATES INT</th>\n",
       "      <td>0.0449</td>\n",
       "      <td>0.0449</td>\n",
       "    </tr>\n",
       "  </tbody>\n",
       "</table>\n",
       "</div>"
      ],
      "text/plain": [
       "                 train    test\n",
       "QUALYS INC      0.9782  0.9782\n",
       "SHAKE SHACK IN  0.9575  0.9575\n",
       "ENDO INTERNATI  0.9411  0.9411\n",
       "CAL-MAINE FOOD  0.7192  0.7192\n",
       "JOHN BEAN TEC   0.7010  0.7010\n",
       "GARRET MOTIN I  0.6932  0.6932\n",
       "ENANTA PHARMAC  0.5155  0.5155\n",
       "LEGGETT& PLATT  0.5021  0.5021\n",
       "OIL STATES INT  0.0449  0.0449"
      ]
     },
     "execution_count": 6,
     "metadata": {},
     "output_type": "execute_result"
    }
   ],
   "source": [
    "names = df_reg.Name.unique()\n",
    "row_index = 0\n",
    "acc_d = []\n",
    "\n",
    "for i in range(len(names)):\n",
    "    company = df_reg[df_reg.Name == names[i]]\n",
    "    company = company[company != 'inf']\n",
    "    X = company.GDP.values.reshape(-1, 1)\n",
    "    y = company.revenue.values.reshape(-1, 1)\n",
    "    X_train, X_test, y_train, y_test = train_test_split(X, y, test_size = 0.2, random_state = 0) \n",
    "    regressor = LinearRegression()\n",
    "    regressor.fit(X_train,y_train)\n",
    "    \n",
    "    acc_train = round(regressor.score(X_train, y_train), 4)\n",
    "    acc_test = round(regressor.score(X_train, y_train), 4)\n",
    "    acc_d.append([acc_train, acc_test])\n",
    "    \n",
    "    row_index+=1\n",
    "\n",
    "    #Predicting the Test set results\n",
    "    y_pred = regressor.predict(X_test)\n",
    "\n",
    "df_accuracy = pd.DataFrame(acc_d, index = names, columns = ['train','test'])\n",
    "df_accuracy.sort_values('train', ascending=False)[0:10]   "
   ]
  },
  {
   "cell_type": "markdown",
   "metadata": {},
   "source": [
    "### by sector"
   ]
  },
  {
   "cell_type": "code",
   "execution_count": 7,
   "metadata": {},
   "outputs": [
    {
     "data": {
      "text/html": [
       "<div>\n",
       "<style scoped>\n",
       "    .dataframe tbody tr th:only-of-type {\n",
       "        vertical-align: middle;\n",
       "    }\n",
       "\n",
       "    .dataframe tbody tr th {\n",
       "        vertical-align: top;\n",
       "    }\n",
       "\n",
       "    .dataframe thead th {\n",
       "        text-align: right;\n",
       "    }\n",
       "</style>\n",
       "<table border=\"1\" class=\"dataframe\">\n",
       "  <thead>\n",
       "    <tr style=\"text-align: right;\">\n",
       "      <th></th>\n",
       "      <th>train</th>\n",
       "      <th>test</th>\n",
       "    </tr>\n",
       "  </thead>\n",
       "  <tbody>\n",
       "    <tr>\n",
       "      <th>Agriculture, Forestry, Fishing and Hunting</th>\n",
       "      <td>0.7192</td>\n",
       "      <td>0.7192</td>\n",
       "    </tr>\n",
       "    <tr>\n",
       "      <th>Other Services (except Public Administration)</th>\n",
       "      <td>0.1579</td>\n",
       "      <td>0.1579</td>\n",
       "    </tr>\n",
       "    <tr>\n",
       "      <th>Construction</th>\n",
       "      <td>0.0912</td>\n",
       "      <td>0.0912</td>\n",
       "    </tr>\n",
       "    <tr>\n",
       "      <th>Utilities</th>\n",
       "      <td>0.0895</td>\n",
       "      <td>0.0895</td>\n",
       "    </tr>\n",
       "    <tr>\n",
       "      <th>Real Estate and Rental and Leasing</th>\n",
       "      <td>0.0784</td>\n",
       "      <td>0.0784</td>\n",
       "    </tr>\n",
       "    <tr>\n",
       "      <th>Transportation and Warehousing</th>\n",
       "      <td>0.0683</td>\n",
       "      <td>0.0683</td>\n",
       "    </tr>\n",
       "    <tr>\n",
       "      <th>Administrative and Support and Waste Management and Remediation Services</th>\n",
       "      <td>0.0643</td>\n",
       "      <td>0.0643</td>\n",
       "    </tr>\n",
       "    <tr>\n",
       "      <th>Wholesale Trade</th>\n",
       "      <td>0.0505</td>\n",
       "      <td>0.0505</td>\n",
       "    </tr>\n",
       "    <tr>\n",
       "      <th>Health Care and Social Assistance</th>\n",
       "      <td>0.0463</td>\n",
       "      <td>0.0463</td>\n",
       "    </tr>\n",
       "    <tr>\n",
       "      <th>Educational Services</th>\n",
       "      <td>0.0423</td>\n",
       "      <td>0.0423</td>\n",
       "    </tr>\n",
       "  </tbody>\n",
       "</table>\n",
       "</div>"
      ],
      "text/plain": [
       "                                                     train    test\n",
       "Agriculture, Forestry, Fishing and Hunting          0.7192  0.7192\n",
       "Other Services (except Public Administration)       0.1579  0.1579\n",
       "Construction                                        0.0912  0.0912\n",
       "Utilities                                           0.0895  0.0895\n",
       "Real Estate and Rental and Leasing                  0.0784  0.0784\n",
       "Transportation and Warehousing                      0.0683  0.0683\n",
       "Administrative and Support and Waste Management...  0.0643  0.0643\n",
       "Wholesale Trade                                     0.0505  0.0505\n",
       "Health Care and Social Assistance                   0.0463  0.0463\n",
       "Educational Services                                0.0423  0.0423"
      ]
     },
     "execution_count": 7,
     "metadata": {},
     "output_type": "execute_result"
    }
   ],
   "source": [
    "#df_reg = df.loc[df.Name.isin(group1.Name)]\n",
    "df_reg = df.drop(columns= {'Sub-sector', 'Industry', 'pred_surprise','Name'})\n",
    "df_reg = df_reg.sort_values('Date')\n",
    "#df_reg['GDP_var'] = df_reg['GDP'].pct_change(1)\n",
    "df_reg['revenue_var'] = df_reg['revenue'].pct_change(1)\n",
    "df_reg = df_reg.drop(columns= {'Date', 'revenue_var'})\n",
    "df_reg = df_reg.replace([np.inf, -np.inf], np.nan)\n",
    "df_reg.dropna(inplace= True)\n",
    "df_reg.reset_index(inplace= True, drop= True)\n",
    "\n",
    "names = df_reg.Sector.unique()\n",
    "row_index = 0\n",
    "acc_d = []\n",
    "\n",
    "for i in range(len(names)):\n",
    "    company = df_reg[df_reg.Sector == names[i]]\n",
    "    X = X[X != 'inf']\n",
    "    X = company.GDP.values.reshape(-1, 1)\n",
    "    y = company.revenue.values.reshape(-1, 1)\n",
    "    X_train, X_test, y_train, y_test = train_test_split(X, y, test_size = 0.2, random_state = 0) \n",
    "    regressor = LinearRegression()\n",
    "    regressor.fit(X_train,y_train)\n",
    "    \n",
    "    acc_train = round(regressor.score(X_train, y_train), 4)\n",
    "    acc_test = round(regressor.score(X_train, y_train), 4)\n",
    "    acc_d.append([acc_train, acc_test])\n",
    "    \n",
    "    row_index+=1\n",
    "\n",
    "    #Predicting the Test set results\n",
    "    y_pred = regressor.predict(X_test)\n",
    "\n",
    "df_accuracy = pd.DataFrame(acc_d, index = names, columns = ['train','test'])\n",
    "df_accuracy.sort_values('train', ascending=False)[0:10]   "
   ]
  },
  {
   "cell_type": "markdown",
   "metadata": {},
   "source": [
    "# Test autres algos"
   ]
  },
  {
   "cell_type": "code",
   "execution_count": 71,
   "metadata": {},
   "outputs": [],
   "source": [
    "from sklearn.model_selection import cross_val_score, StratifiedKFold, cross_val_predict, train_test_split\n",
    "from sklearn.linear_model import LogisticRegression\n",
    "from sklearn.neighbors import KNeighborsClassifier\n",
    "from sklearn.discriminant_analysis import LinearDiscriminantAnalysis, QuadraticDiscriminantAnalysis\n",
    "from sklearn.ensemble import RandomForestClassifier\n",
    "from sklearn.svm import SVC\n",
    "from sklearn.linear_model import LinearRegression\n",
    "from sklearn.naive_bayes import GaussianNB, MultinomialNB\n",
    "from sklearn.ensemble import RandomForestRegressor\n",
    "from sklearn.metrics import confusion_matrix,precision_recall_curve,auc,roc_auc_score,roc_curve,recall_score,classification_report,accuracy_score \n",
    "\n",
    "\n",
    "from sklearn.model_selection import train_test_split, cross_val_score\n",
    "from sklearn.metrics import mean_squared_error,confusion_matrix\n",
    "from sklearn import ensemble, linear_model, neighbors, svm, tree\n",
    "from sklearn.pipeline import make_pipeline\n",
    "from sklearn.linear_model import Ridge\n",
    "from sklearn.preprocessing import PolynomialFeatures\n",
    "from sklearn import svm,model_selection, tree, linear_model, neighbors, naive_bayes, ensemble, discriminant_analysis, gaussian_process\n"
   ]
  },
  {
   "cell_type": "code",
   "execution_count": 119,
   "metadata": {},
   "outputs": [
    {
     "data": {
      "text/html": [
       "<div>\n",
       "<style scoped>\n",
       "    .dataframe tbody tr th:only-of-type {\n",
       "        vertical-align: middle;\n",
       "    }\n",
       "\n",
       "    .dataframe tbody tr th {\n",
       "        vertical-align: top;\n",
       "    }\n",
       "\n",
       "    .dataframe thead th {\n",
       "        text-align: right;\n",
       "    }\n",
       "</style>\n",
       "<table border=\"1\" class=\"dataframe\">\n",
       "  <thead>\n",
       "    <tr style=\"text-align: right;\">\n",
       "      <th></th>\n",
       "      <th>revenue</th>\n",
       "      <th>pred_surprise</th>\n",
       "      <th>GDP</th>\n",
       "      <th>Name</th>\n",
       "      <th>GDP_var</th>\n",
       "      <th>revenue_var</th>\n",
       "    </tr>\n",
       "  </thead>\n",
       "  <tbody>\n",
       "    <tr>\n",
       "      <th>0</th>\n",
       "      <td>277.105000000</td>\n",
       "      <td>-51.468000000</td>\n",
       "      <td>9,392.251000000</td>\n",
       "      <td>LEGGETT&amp; PLATT</td>\n",
       "      <td>0.003629082</td>\n",
       "      <td>0.038173058</td>\n",
       "    </tr>\n",
       "    <tr>\n",
       "      <th>1</th>\n",
       "      <td>285.004000000</td>\n",
       "      <td>-51.468000000</td>\n",
       "      <td>9,398.499000000</td>\n",
       "      <td>LEGGETT&amp; PLATT</td>\n",
       "      <td>0.000665229</td>\n",
       "      <td>0.028505440</td>\n",
       "    </tr>\n",
       "    <tr>\n",
       "      <th>2</th>\n",
       "      <td>259.599000000</td>\n",
       "      <td>-51.468000000</td>\n",
       "      <td>9,312.937000000</td>\n",
       "      <td>LEGGETT&amp; PLATT</td>\n",
       "      <td>-0.009103794</td>\n",
       "      <td>-0.089139100</td>\n",
       "    </tr>\n",
       "    <tr>\n",
       "      <th>3</th>\n",
       "      <td>263.153000000</td>\n",
       "      <td>-51.468000000</td>\n",
       "      <td>9,269.367000000</td>\n",
       "      <td>LEGGETT&amp; PLATT</td>\n",
       "      <td>-0.004678438</td>\n",
       "      <td>0.013690345</td>\n",
       "    </tr>\n",
       "    <tr>\n",
       "      <th>4</th>\n",
       "      <td>282.895000000</td>\n",
       "      <td>-51.468000000</td>\n",
       "      <td>9,341.642000000</td>\n",
       "      <td>LEGGETT&amp; PLATT</td>\n",
       "      <td>0.007797188</td>\n",
       "      <td>0.075020995</td>\n",
       "    </tr>\n",
       "    <tr>\n",
       "      <th>...</th>\n",
       "      <td>...</td>\n",
       "      <td>...</td>\n",
       "      <td>...</td>\n",
       "      <td>...</td>\n",
       "      <td>...</td>\n",
       "      <td>...</td>\n",
       "    </tr>\n",
       "    <tr>\n",
       "      <th>458</th>\n",
       "      <td>119.647000000</td>\n",
       "      <td>-7.698000000</td>\n",
       "      <td>18,664.973000000</td>\n",
       "      <td>SHAKE SHACK IN</td>\n",
       "      <td>0.000000000</td>\n",
       "      <td>0.780328845</td>\n",
       "    </tr>\n",
       "    <tr>\n",
       "      <th>459</th>\n",
       "      <td>784.000000000</td>\n",
       "      <td>-5.136000000</td>\n",
       "      <td>18,664.973000000</td>\n",
       "      <td>GARRET MOTIN I</td>\n",
       "      <td>0.000000000</td>\n",
       "      <td>5.552608925</td>\n",
       "    </tr>\n",
       "    <tr>\n",
       "      <th>460</th>\n",
       "      <td>1,091.500000000</td>\n",
       "      <td>-8.085000000</td>\n",
       "      <td>18,664.973000000</td>\n",
       "      <td>LEGGETT&amp; PLATT</td>\n",
       "      <td>0.000000000</td>\n",
       "      <td>0.392219388</td>\n",
       "    </tr>\n",
       "    <tr>\n",
       "      <th>461</th>\n",
       "      <td>274.594000000</td>\n",
       "      <td>-3.952000000</td>\n",
       "      <td>18,664.973000000</td>\n",
       "      <td>OIL STATES INT</td>\n",
       "      <td>0.000000000</td>\n",
       "      <td>-0.748425103</td>\n",
       "    </tr>\n",
       "    <tr>\n",
       "      <th>462</th>\n",
       "      <td>481.900000000</td>\n",
       "      <td>-10.265000000</td>\n",
       "      <td>18,664.973000000</td>\n",
       "      <td>JOHN BEAN TEC</td>\n",
       "      <td>0.000000000</td>\n",
       "      <td>0.754954588</td>\n",
       "    </tr>\n",
       "  </tbody>\n",
       "</table>\n",
       "<p>463 rows × 6 columns</p>\n",
       "</div>"
      ],
      "text/plain": [
       "            revenue  pred_surprise              GDP            Name  \\\n",
       "0     277.105000000  -51.468000000  9,392.251000000  LEGGETT& PLATT   \n",
       "1     285.004000000  -51.468000000  9,398.499000000  LEGGETT& PLATT   \n",
       "2     259.599000000  -51.468000000  9,312.937000000  LEGGETT& PLATT   \n",
       "3     263.153000000  -51.468000000  9,269.367000000  LEGGETT& PLATT   \n",
       "4     282.895000000  -51.468000000  9,341.642000000  LEGGETT& PLATT   \n",
       "..              ...            ...              ...             ...   \n",
       "458   119.647000000   -7.698000000 18,664.973000000  SHAKE SHACK IN   \n",
       "459   784.000000000   -5.136000000 18,664.973000000  GARRET MOTIN I   \n",
       "460 1,091.500000000   -8.085000000 18,664.973000000  LEGGETT& PLATT   \n",
       "461   274.594000000   -3.952000000 18,664.973000000  OIL STATES INT   \n",
       "462   481.900000000  -10.265000000 18,664.973000000   JOHN BEAN TEC   \n",
       "\n",
       "         GDP_var  revenue_var  \n",
       "0    0.003629082  0.038173058  \n",
       "1    0.000665229  0.028505440  \n",
       "2   -0.009103794 -0.089139100  \n",
       "3   -0.004678438  0.013690345  \n",
       "4    0.007797188  0.075020995  \n",
       "..           ...          ...  \n",
       "458  0.000000000  0.780328845  \n",
       "459  0.000000000  5.552608925  \n",
       "460  0.000000000  0.392219388  \n",
       "461  0.000000000 -0.748425103  \n",
       "462  0.000000000  0.754954588  \n",
       "\n",
       "[463 rows x 6 columns]"
      ]
     },
     "execution_count": 119,
     "metadata": {},
     "output_type": "execute_result"
    }
   ],
   "source": [
    "df_reg = df.loc[df.Name.isin(group1.Name)]\n",
    "df_reg = df_reg.drop(columns= {'Sub-sector', 'Industry','Sector'})\n",
    "df_reg = df_reg.sort_values('Date')\n",
    "df_reg['GDP_var'] = df_reg['GDP'].pct_change(1)\n",
    "df_reg['revenue_var'] = df_reg['revenue'].pct_change(1)\n",
    "#df_reg['revenue_var'] = df_reg['revenue_var']>0\n",
    "df_reg = df_reg.drop(columns= {'Date'})\n",
    "df_reg = df_reg.replace([np.inf, -np.inf], np.nan)\n",
    "df_reg.dropna(inplace= True)\n",
    "df_reg.reset_index(inplace= True, drop= True)\n",
    "df_reg"
   ]
  },
  {
   "cell_type": "code",
   "execution_count": 120,
   "metadata": {},
   "outputs": [],
   "source": [
    "MLA = [\n",
    "    #neighbors.KNeighborsRegressor(),\n",
    "    svm.SVR(),\n",
    "    svm.LinearSVR(),\n",
    "    tree.DecisionTreeRegressor(),\n",
    "    LinearRegression(),\n",
    "    RandomForestRegressor(n_estimators = 500,random_state =0)\n",
    "    ]"
   ]
  },
  {
   "cell_type": "code",
   "execution_count": 127,
   "metadata": {
    "scrolled": true
   },
   "outputs": [
    {
     "data": {
      "text/html": [
       "<div>\n",
       "<style scoped>\n",
       "    .dataframe tbody tr th:only-of-type {\n",
       "        vertical-align: middle;\n",
       "    }\n",
       "\n",
       "    .dataframe tbody tr th {\n",
       "        vertical-align: top;\n",
       "    }\n",
       "\n",
       "    .dataframe thead th {\n",
       "        text-align: right;\n",
       "    }\n",
       "</style>\n",
       "<table border=\"1\" class=\"dataframe\">\n",
       "  <thead>\n",
       "    <tr style=\"text-align: right;\">\n",
       "      <th></th>\n",
       "      <th>Name</th>\n",
       "      <th>Algo</th>\n",
       "      <th>test</th>\n",
       "      <th>pred_surprise</th>\n",
       "      <th>our_pred</th>\n",
       "      <th>len</th>\n",
       "    </tr>\n",
       "  </thead>\n",
       "  <tbody>\n",
       "    <tr>\n",
       "      <th>32</th>\n",
       "      <td>QUALYS INC</td>\n",
       "      <td>LinearRegression</td>\n",
       "      <td>0.955582367</td>\n",
       "      <td>-23.238137931</td>\n",
       "      <td>-2.125472616</td>\n",
       "      <td>9</td>\n",
       "    </tr>\n",
       "    <tr>\n",
       "      <th>26</th>\n",
       "      <td>GARRET MOTIN I</td>\n",
       "      <td>DecisionTreeRegressor</td>\n",
       "      <td>0.930560061</td>\n",
       "      <td>-5.019428571</td>\n",
       "      <td>6.517836340</td>\n",
       "      <td>3</td>\n",
       "    </tr>\n",
       "    <tr>\n",
       "      <th>44</th>\n",
       "      <td>GARRET MOTIN I</td>\n",
       "      <td>RandomForestRegressor</td>\n",
       "      <td>0.913445986</td>\n",
       "      <td>-5.019428571</td>\n",
       "      <td>8.655401367</td>\n",
       "      <td>3</td>\n",
       "    </tr>\n",
       "    <tr>\n",
       "      <th>8</th>\n",
       "      <td>GARRET MOTIN I</td>\n",
       "      <td>SVR</td>\n",
       "      <td>0.906255137</td>\n",
       "      <td>-5.019428571</td>\n",
       "      <td>9.374486302</td>\n",
       "      <td>3</td>\n",
       "    </tr>\n",
       "    <tr>\n",
       "      <th>35</th>\n",
       "      <td>GARRET MOTIN I</td>\n",
       "      <td>LinearRegression</td>\n",
       "      <td>0.896552762</td>\n",
       "      <td>-5.019428571</td>\n",
       "      <td>10.344723787</td>\n",
       "      <td>3</td>\n",
       "    </tr>\n",
       "    <tr>\n",
       "      <th>4</th>\n",
       "      <td>JOHN BEAN TEC</td>\n",
       "      <td>SVR</td>\n",
       "      <td>0.831215856</td>\n",
       "      <td>-5.269638298</td>\n",
       "      <td>2.845231358</td>\n",
       "      <td>15</td>\n",
       "    </tr>\n",
       "    <tr>\n",
       "      <th>34</th>\n",
       "      <td>SHAKE SHACK IN</td>\n",
       "      <td>LinearRegression</td>\n",
       "      <td>0.821748081</td>\n",
       "      <td>-7.329185185</td>\n",
       "      <td>-1.767942074</td>\n",
       "      <td>9</td>\n",
       "    </tr>\n",
       "    <tr>\n",
       "      <th>17</th>\n",
       "      <td>GARRET MOTIN I</td>\n",
       "      <td>LinearSVR</td>\n",
       "      <td>0.812164879</td>\n",
       "      <td>-5.019428571</td>\n",
       "      <td>18.783512133</td>\n",
       "      <td>3</td>\n",
       "    </tr>\n",
       "    <tr>\n",
       "      <th>31</th>\n",
       "      <td>JOHN BEAN TEC</td>\n",
       "      <td>LinearRegression</td>\n",
       "      <td>0.809823598</td>\n",
       "      <td>-5.269638298</td>\n",
       "      <td>9.042135761</td>\n",
       "      <td>15</td>\n",
       "    </tr>\n",
       "    <tr>\n",
       "      <th>13</th>\n",
       "      <td>JOHN BEAN TEC</td>\n",
       "      <td>LinearSVR</td>\n",
       "      <td>0.800124124</td>\n",
       "      <td>-5.269638298</td>\n",
       "      <td>-17.827522159</td>\n",
       "      <td>15</td>\n",
       "    </tr>\n",
       "    <tr>\n",
       "      <th>22</th>\n",
       "      <td>JOHN BEAN TEC</td>\n",
       "      <td>DecisionTreeRegressor</td>\n",
       "      <td>0.755079924</td>\n",
       "      <td>-5.269638298</td>\n",
       "      <td>5.199674614</td>\n",
       "      <td>15</td>\n",
       "    </tr>\n",
       "    <tr>\n",
       "      <th>40</th>\n",
       "      <td>JOHN BEAN TEC</td>\n",
       "      <td>RandomForestRegressor</td>\n",
       "      <td>0.748985186</td>\n",
       "      <td>-5.269638298</td>\n",
       "      <td>6.650197418</td>\n",
       "      <td>15</td>\n",
       "    </tr>\n",
       "    <tr>\n",
       "      <th>29</th>\n",
       "      <td>ENDO INTERNATI</td>\n",
       "      <td>LinearRegression</td>\n",
       "      <td>0.734033125</td>\n",
       "      <td>-3.210162791</td>\n",
       "      <td>10.168255120</td>\n",
       "      <td>13</td>\n",
       "    </tr>\n",
       "    <tr>\n",
       "      <th>28</th>\n",
       "      <td>CAL-MAINE FOOD</td>\n",
       "      <td>LinearRegression</td>\n",
       "      <td>0.666228509</td>\n",
       "      <td>-5.074086022</td>\n",
       "      <td>4.069533445</td>\n",
       "      <td>28</td>\n",
       "    </tr>\n",
       "    <tr>\n",
       "      <th>27</th>\n",
       "      <td>LEGGETT&amp; PLATT</td>\n",
       "      <td>LinearRegression</td>\n",
       "      <td>0.638511322</td>\n",
       "      <td>20.774867257</td>\n",
       "      <td>24.697558106</td>\n",
       "      <td>34</td>\n",
       "    </tr>\n",
       "    <tr>\n",
       "      <th>5</th>\n",
       "      <td>QUALYS INC</td>\n",
       "      <td>SVR</td>\n",
       "      <td>0.618894067</td>\n",
       "      <td>-23.238137931</td>\n",
       "      <td>-7.867254552</td>\n",
       "      <td>9</td>\n",
       "    </tr>\n",
       "    <tr>\n",
       "      <th>14</th>\n",
       "      <td>QUALYS INC</td>\n",
       "      <td>LinearSVR</td>\n",
       "      <td>0.560185154</td>\n",
       "      <td>-23.238137931</td>\n",
       "      <td>-42.515107318</td>\n",
       "      <td>9</td>\n",
       "    </tr>\n",
       "    <tr>\n",
       "      <th>10</th>\n",
       "      <td>CAL-MAINE FOOD</td>\n",
       "      <td>LinearSVR</td>\n",
       "      <td>0.540469576</td>\n",
       "      <td>-5.074086022</td>\n",
       "      <td>-19.030542107</td>\n",
       "      <td>28</td>\n",
       "    </tr>\n",
       "    <tr>\n",
       "      <th>3</th>\n",
       "      <td>OIL STATES INT</td>\n",
       "      <td>SVR</td>\n",
       "      <td>0.527778360</td>\n",
       "      <td>-8.530306667</td>\n",
       "      <td>-16.538848357</td>\n",
       "      <td>23</td>\n",
       "    </tr>\n",
       "    <tr>\n",
       "      <th>41</th>\n",
       "      <td>QUALYS INC</td>\n",
       "      <td>RandomForestRegressor</td>\n",
       "      <td>0.501786671</td>\n",
       "      <td>-23.238137931</td>\n",
       "      <td>15.338419557</td>\n",
       "      <td>9</td>\n",
       "    </tr>\n",
       "    <tr>\n",
       "      <th>23</th>\n",
       "      <td>QUALYS INC</td>\n",
       "      <td>DecisionTreeRegressor</td>\n",
       "      <td>0.483027193</td>\n",
       "      <td>-23.238137931</td>\n",
       "      <td>16.651321300</td>\n",
       "      <td>9</td>\n",
       "    </tr>\n",
       "    <tr>\n",
       "      <th>30</th>\n",
       "      <td>OIL STATES INT</td>\n",
       "      <td>LinearRegression</td>\n",
       "      <td>0.467913297</td>\n",
       "      <td>-8.530306667</td>\n",
       "      <td>19.985887846</td>\n",
       "      <td>23</td>\n",
       "    </tr>\n",
       "    <tr>\n",
       "      <th>16</th>\n",
       "      <td>SHAKE SHACK IN</td>\n",
       "      <td>LinearSVR</td>\n",
       "      <td>0.465252360</td>\n",
       "      <td>-7.329185185</td>\n",
       "      <td>-36.057219049</td>\n",
       "      <td>9</td>\n",
       "    </tr>\n",
       "    <tr>\n",
       "      <th>7</th>\n",
       "      <td>SHAKE SHACK IN</td>\n",
       "      <td>SVR</td>\n",
       "      <td>0.452397404</td>\n",
       "      <td>-7.329185185</td>\n",
       "      <td>-7.045270386</td>\n",
       "      <td>9</td>\n",
       "    </tr>\n",
       "    <tr>\n",
       "      <th>12</th>\n",
       "      <td>OIL STATES INT</td>\n",
       "      <td>LinearSVR</td>\n",
       "      <td>0.445125802</td>\n",
       "      <td>-8.530306667</td>\n",
       "      <td>-55.029151913</td>\n",
       "      <td>23</td>\n",
       "    </tr>\n",
       "    <tr>\n",
       "      <th>9</th>\n",
       "      <td>LEGGETT&amp; PLATT</td>\n",
       "      <td>LinearSVR</td>\n",
       "      <td>0.424299818</td>\n",
       "      <td>20.774867257</td>\n",
       "      <td>32.363541938</td>\n",
       "      <td>34</td>\n",
       "    </tr>\n",
       "    <tr>\n",
       "      <th>15</th>\n",
       "      <td>ENANTA PHARMAC</td>\n",
       "      <td>LinearSVR</td>\n",
       "      <td>0.376006401</td>\n",
       "      <td>-8.756000000</td>\n",
       "      <td>-45.697557756</td>\n",
       "      <td>9</td>\n",
       "    </tr>\n",
       "    <tr>\n",
       "      <th>1</th>\n",
       "      <td>CAL-MAINE FOOD</td>\n",
       "      <td>SVR</td>\n",
       "      <td>0.371926959</td>\n",
       "      <td>-5.074086022</td>\n",
       "      <td>27.890456818</td>\n",
       "      <td>28</td>\n",
       "    </tr>\n",
       "    <tr>\n",
       "      <th>0</th>\n",
       "      <td>LEGGETT&amp; PLATT</td>\n",
       "      <td>SVR</td>\n",
       "      <td>0.356422362</td>\n",
       "      <td>20.774867257</td>\n",
       "      <td>55.323083585</td>\n",
       "      <td>34</td>\n",
       "    </tr>\n",
       "    <tr>\n",
       "      <th>18</th>\n",
       "      <td>LEGGETT&amp; PLATT</td>\n",
       "      <td>DecisionTreeRegressor</td>\n",
       "      <td>0.344105833</td>\n",
       "      <td>20.774867257</td>\n",
       "      <td>31.462599238</td>\n",
       "      <td>34</td>\n",
       "    </tr>\n",
       "    <tr>\n",
       "      <th>36</th>\n",
       "      <td>LEGGETT&amp; PLATT</td>\n",
       "      <td>RandomForestRegressor</td>\n",
       "      <td>0.334493697</td>\n",
       "      <td>20.774867257</td>\n",
       "      <td>33.597074875</td>\n",
       "      <td>34</td>\n",
       "    </tr>\n",
       "    <tr>\n",
       "      <th>21</th>\n",
       "      <td>OIL STATES INT</td>\n",
       "      <td>DecisionTreeRegressor</td>\n",
       "      <td>0.330720591</td>\n",
       "      <td>-8.530306667</td>\n",
       "      <td>25.411765821</td>\n",
       "      <td>23</td>\n",
       "    </tr>\n",
       "    <tr>\n",
       "      <th>39</th>\n",
       "      <td>OIL STATES INT</td>\n",
       "      <td>RandomForestRegressor</td>\n",
       "      <td>0.286383598</td>\n",
       "      <td>-8.530306667</td>\n",
       "      <td>31.617622702</td>\n",
       "      <td>23</td>\n",
       "    </tr>\n",
       "    <tr>\n",
       "      <th>6</th>\n",
       "      <td>ENANTA PHARMAC</td>\n",
       "      <td>SVR</td>\n",
       "      <td>0.259949178</td>\n",
       "      <td>-8.756000000</td>\n",
       "      <td>-70.844256823</td>\n",
       "      <td>9</td>\n",
       "    </tr>\n",
       "    <tr>\n",
       "      <th>11</th>\n",
       "      <td>ENDO INTERNATI</td>\n",
       "      <td>LinearSVR</td>\n",
       "      <td>0.244753131</td>\n",
       "      <td>-3.210162791</td>\n",
       "      <td>-68.680684975</td>\n",
       "      <td>13</td>\n",
       "    </tr>\n",
       "    <tr>\n",
       "      <th>2</th>\n",
       "      <td>ENDO INTERNATI</td>\n",
       "      <td>SVR</td>\n",
       "      <td>0.177415194</td>\n",
       "      <td>-3.210162791</td>\n",
       "      <td>16.866372453</td>\n",
       "      <td>13</td>\n",
       "    </tr>\n",
       "    <tr>\n",
       "      <th>43</th>\n",
       "      <td>SHAKE SHACK IN</td>\n",
       "      <td>RandomForestRegressor</td>\n",
       "      <td>0.109940066</td>\n",
       "      <td>-7.329185185</td>\n",
       "      <td>44.441975536</td>\n",
       "      <td>9</td>\n",
       "    </tr>\n",
       "    <tr>\n",
       "      <th>25</th>\n",
       "      <td>SHAKE SHACK IN</td>\n",
       "      <td>DecisionTreeRegressor</td>\n",
       "      <td>0.075216990</td>\n",
       "      <td>-7.329185185</td>\n",
       "      <td>47.312344521</td>\n",
       "      <td>9</td>\n",
       "    </tr>\n",
       "    <tr>\n",
       "      <th>37</th>\n",
       "      <td>CAL-MAINE FOOD</td>\n",
       "      <td>RandomForestRegressor</td>\n",
       "      <td>0.058829896</td>\n",
       "      <td>-5.074086022</td>\n",
       "      <td>53.632302256</td>\n",
       "      <td>28</td>\n",
       "    </tr>\n",
       "    <tr>\n",
       "      <th>19</th>\n",
       "      <td>CAL-MAINE FOOD</td>\n",
       "      <td>DecisionTreeRegressor</td>\n",
       "      <td>0.051853996</td>\n",
       "      <td>-5.074086022</td>\n",
       "      <td>54.091225904</td>\n",
       "      <td>28</td>\n",
       "    </tr>\n",
       "    <tr>\n",
       "      <th>33</th>\n",
       "      <td>ENANTA PHARMAC</td>\n",
       "      <td>LinearRegression</td>\n",
       "      <td>-0.035029399</td>\n",
       "      <td>-8.756000000</td>\n",
       "      <td>20.080293948</td>\n",
       "      <td>9</td>\n",
       "    </tr>\n",
       "    <tr>\n",
       "      <th>42</th>\n",
       "      <td>ENANTA PHARMAC</td>\n",
       "      <td>RandomForestRegressor</td>\n",
       "      <td>-0.132558267</td>\n",
       "      <td>-8.756000000</td>\n",
       "      <td>26.950061774</td>\n",
       "      <td>9</td>\n",
       "    </tr>\n",
       "    <tr>\n",
       "      <th>24</th>\n",
       "      <td>ENANTA PHARMAC</td>\n",
       "      <td>DecisionTreeRegressor</td>\n",
       "      <td>-0.414198792</td>\n",
       "      <td>-8.756000000</td>\n",
       "      <td>45.969669353</td>\n",
       "      <td>9</td>\n",
       "    </tr>\n",
       "    <tr>\n",
       "      <th>38</th>\n",
       "      <td>ENDO INTERNATI</td>\n",
       "      <td>RandomForestRegressor</td>\n",
       "      <td>-0.661405721</td>\n",
       "      <td>-3.210162791</td>\n",
       "      <td>117.563930013</td>\n",
       "      <td>13</td>\n",
       "    </tr>\n",
       "    <tr>\n",
       "      <th>20</th>\n",
       "      <td>ENDO INTERNATI</td>\n",
       "      <td>DecisionTreeRegressor</td>\n",
       "      <td>-0.686882735</td>\n",
       "      <td>-3.210162791</td>\n",
       "      <td>120.115764052</td>\n",
       "      <td>13</td>\n",
       "    </tr>\n",
       "  </tbody>\n",
       "</table>\n",
       "</div>"
      ],
      "text/plain": [
       "              Name                   Algo         test  pred_surprise  \\\n",
       "32      QUALYS INC       LinearRegression  0.955582367  -23.238137931   \n",
       "26  GARRET MOTIN I  DecisionTreeRegressor  0.930560061   -5.019428571   \n",
       "44  GARRET MOTIN I  RandomForestRegressor  0.913445986   -5.019428571   \n",
       "8   GARRET MOTIN I                    SVR  0.906255137   -5.019428571   \n",
       "35  GARRET MOTIN I       LinearRegression  0.896552762   -5.019428571   \n",
       "4    JOHN BEAN TEC                    SVR  0.831215856   -5.269638298   \n",
       "34  SHAKE SHACK IN       LinearRegression  0.821748081   -7.329185185   \n",
       "17  GARRET MOTIN I              LinearSVR  0.812164879   -5.019428571   \n",
       "31   JOHN BEAN TEC       LinearRegression  0.809823598   -5.269638298   \n",
       "13   JOHN BEAN TEC              LinearSVR  0.800124124   -5.269638298   \n",
       "22   JOHN BEAN TEC  DecisionTreeRegressor  0.755079924   -5.269638298   \n",
       "40   JOHN BEAN TEC  RandomForestRegressor  0.748985186   -5.269638298   \n",
       "29  ENDO INTERNATI       LinearRegression  0.734033125   -3.210162791   \n",
       "28  CAL-MAINE FOOD       LinearRegression  0.666228509   -5.074086022   \n",
       "27  LEGGETT& PLATT       LinearRegression  0.638511322   20.774867257   \n",
       "5       QUALYS INC                    SVR  0.618894067  -23.238137931   \n",
       "14      QUALYS INC              LinearSVR  0.560185154  -23.238137931   \n",
       "10  CAL-MAINE FOOD              LinearSVR  0.540469576   -5.074086022   \n",
       "3   OIL STATES INT                    SVR  0.527778360   -8.530306667   \n",
       "41      QUALYS INC  RandomForestRegressor  0.501786671  -23.238137931   \n",
       "23      QUALYS INC  DecisionTreeRegressor  0.483027193  -23.238137931   \n",
       "30  OIL STATES INT       LinearRegression  0.467913297   -8.530306667   \n",
       "16  SHAKE SHACK IN              LinearSVR  0.465252360   -7.329185185   \n",
       "7   SHAKE SHACK IN                    SVR  0.452397404   -7.329185185   \n",
       "12  OIL STATES INT              LinearSVR  0.445125802   -8.530306667   \n",
       "9   LEGGETT& PLATT              LinearSVR  0.424299818   20.774867257   \n",
       "15  ENANTA PHARMAC              LinearSVR  0.376006401   -8.756000000   \n",
       "1   CAL-MAINE FOOD                    SVR  0.371926959   -5.074086022   \n",
       "0   LEGGETT& PLATT                    SVR  0.356422362   20.774867257   \n",
       "18  LEGGETT& PLATT  DecisionTreeRegressor  0.344105833   20.774867257   \n",
       "36  LEGGETT& PLATT  RandomForestRegressor  0.334493697   20.774867257   \n",
       "21  OIL STATES INT  DecisionTreeRegressor  0.330720591   -8.530306667   \n",
       "39  OIL STATES INT  RandomForestRegressor  0.286383598   -8.530306667   \n",
       "6   ENANTA PHARMAC                    SVR  0.259949178   -8.756000000   \n",
       "11  ENDO INTERNATI              LinearSVR  0.244753131   -3.210162791   \n",
       "2   ENDO INTERNATI                    SVR  0.177415194   -3.210162791   \n",
       "43  SHAKE SHACK IN  RandomForestRegressor  0.109940066   -7.329185185   \n",
       "25  SHAKE SHACK IN  DecisionTreeRegressor  0.075216990   -7.329185185   \n",
       "37  CAL-MAINE FOOD  RandomForestRegressor  0.058829896   -5.074086022   \n",
       "19  CAL-MAINE FOOD  DecisionTreeRegressor  0.051853996   -5.074086022   \n",
       "33  ENANTA PHARMAC       LinearRegression -0.035029399   -8.756000000   \n",
       "42  ENANTA PHARMAC  RandomForestRegressor -0.132558267   -8.756000000   \n",
       "24  ENANTA PHARMAC  DecisionTreeRegressor -0.414198792   -8.756000000   \n",
       "38  ENDO INTERNATI  RandomForestRegressor -0.661405721   -3.210162791   \n",
       "20  ENDO INTERNATI  DecisionTreeRegressor -0.686882735   -3.210162791   \n",
       "\n",
       "        our_pred  len  \n",
       "32  -2.125472616    9  \n",
       "26   6.517836340    3  \n",
       "44   8.655401367    3  \n",
       "8    9.374486302    3  \n",
       "35  10.344723787    3  \n",
       "4    2.845231358   15  \n",
       "34  -1.767942074    9  \n",
       "17  18.783512133    3  \n",
       "31   9.042135761   15  \n",
       "13 -17.827522159   15  \n",
       "22   5.199674614   15  \n",
       "40   6.650197418   15  \n",
       "29  10.168255120   13  \n",
       "28   4.069533445   28  \n",
       "27  24.697558106   34  \n",
       "5   -7.867254552    9  \n",
       "14 -42.515107318    9  \n",
       "10 -19.030542107   28  \n",
       "3  -16.538848357   23  \n",
       "41  15.338419557    9  \n",
       "23  16.651321300    9  \n",
       "30  19.985887846   23  \n",
       "16 -36.057219049    9  \n",
       "7   -7.045270386    9  \n",
       "12 -55.029151913   23  \n",
       "9   32.363541938   34  \n",
       "15 -45.697557756    9  \n",
       "1   27.890456818   28  \n",
       "0   55.323083585   34  \n",
       "18  31.462599238   34  \n",
       "36  33.597074875   34  \n",
       "21  25.411765821   23  \n",
       "39  31.617622702   23  \n",
       "6  -70.844256823    9  \n",
       "11 -68.680684975   13  \n",
       "2   16.866372453   13  \n",
       "43  44.441975536    9  \n",
       "25  47.312344521    9  \n",
       "37  53.632302256   28  \n",
       "19  54.091225904   28  \n",
       "33  20.080293948    9  \n",
       "42  26.950061774    9  \n",
       "24  45.969669353    9  \n",
       "38 117.563930013   13  \n",
       "20 120.115764052   13  "
      ]
     },
     "execution_count": 127,
     "metadata": {},
     "output_type": "execute_result"
    }
   ],
   "source": [
    "names = df_reg.Name.unique()\n",
    "row_index = 0\n",
    "MLA_columns = []\n",
    "MLA_compare = pd.DataFrame(columns = MLA_columns)\n",
    "acc_d = []\n",
    "\n",
    "for alg in MLA:\n",
    "    for i in range(len(names)):\n",
    "        company = df_reg[df_reg.Name == names[i]]\n",
    "        company = company[company != 'inf']\n",
    "        X = company.GDP.values.reshape(-1, 1)\n",
    "        y = company.revenue.values.reshape(-1, 1)\n",
    "        pred_surprise = np.mean(company.pred_surprise)\n",
    "        X_train, X_test, y_train, y_test = train_test_split(X, y, test_size = 0.3, random_state = 0) \n",
    "        regressor = alg\n",
    "        regressor.fit(X_train,y_train)\n",
    "        # acc_train = regressor.score(X_train, y_train)\n",
    "#         acc_test = regressor.score(X_train, y_train)\n",
    "        y_pred = regressor.predict(X_test)\n",
    "        \n",
    "        # Calculate the absolute errors\n",
    "        errors = abs(y_pred - y_test)\n",
    "        acc_test = 1 - np.mean((errors / y_test))\n",
    "\n",
    "        our_pred = 100 *np.mean((y_pred - y_test)/y_test)\n",
    "        \n",
    "        acc_d.append([names[i],alg.__class__.__name__, acc_test, pred_surprise, our_pred, len(y_pred)])\n",
    "        \n",
    "pd.options.display.float_format = '{:,.9f}'.format\n",
    "df_accuracy = pd.DataFrame(acc_d, columns = ['Name','Algo','test','pred_surprise', 'our_pred', 'len'])\n",
    "df_accuracy.sort_values('test', ascending=False)"
   ]
  },
  {
   "cell_type": "markdown",
   "metadata": {},
   "source": [
    "__look at algo score__"
   ]
  },
  {
   "cell_type": "code",
   "execution_count": 113,
   "metadata": {},
   "outputs": [
    {
     "data": {
      "text/html": [
       "<div>\n",
       "<style scoped>\n",
       "    .dataframe tbody tr th:only-of-type {\n",
       "        vertical-align: middle;\n",
       "    }\n",
       "\n",
       "    .dataframe tbody tr th {\n",
       "        vertical-align: top;\n",
       "    }\n",
       "\n",
       "    .dataframe thead th {\n",
       "        text-align: right;\n",
       "    }\n",
       "</style>\n",
       "<table border=\"1\" class=\"dataframe\">\n",
       "  <thead>\n",
       "    <tr style=\"text-align: right;\">\n",
       "      <th></th>\n",
       "      <th></th>\n",
       "      <th>test</th>\n",
       "    </tr>\n",
       "    <tr>\n",
       "      <th>Name</th>\n",
       "      <th>Algo</th>\n",
       "      <th></th>\n",
       "    </tr>\n",
       "  </thead>\n",
       "  <tbody>\n",
       "    <tr>\n",
       "      <th rowspan=\"5\" valign=\"top\">CAL-MAINE FOOD</th>\n",
       "      <th>DecisionTreeRegressor</th>\n",
       "      <td>0.051853996</td>\n",
       "    </tr>\n",
       "    <tr>\n",
       "      <th>LinearRegression</th>\n",
       "      <td>0.666228509</td>\n",
       "    </tr>\n",
       "    <tr>\n",
       "      <th>LinearSVR</th>\n",
       "      <td>0.098135292</td>\n",
       "    </tr>\n",
       "    <tr>\n",
       "      <th>RandomForestRegressor</th>\n",
       "      <td>0.058829896</td>\n",
       "    </tr>\n",
       "    <tr>\n",
       "      <th>SVR</th>\n",
       "      <td>0.371926959</td>\n",
       "    </tr>\n",
       "    <tr>\n",
       "      <th rowspan=\"5\" valign=\"top\">ENANTA PHARMAC</th>\n",
       "      <th>DecisionTreeRegressor</th>\n",
       "      <td>-0.414198792</td>\n",
       "    </tr>\n",
       "    <tr>\n",
       "      <th>LinearRegression</th>\n",
       "      <td>-0.035029399</td>\n",
       "    </tr>\n",
       "    <tr>\n",
       "      <th>LinearSVR</th>\n",
       "      <td>0.375629758</td>\n",
       "    </tr>\n",
       "    <tr>\n",
       "      <th>RandomForestRegressor</th>\n",
       "      <td>-0.132558267</td>\n",
       "    </tr>\n",
       "    <tr>\n",
       "      <th>SVR</th>\n",
       "      <td>0.259949178</td>\n",
       "    </tr>\n",
       "    <tr>\n",
       "      <th rowspan=\"5\" valign=\"top\">ENDO INTERNATI</th>\n",
       "      <th>DecisionTreeRegressor</th>\n",
       "      <td>-0.686882735</td>\n",
       "    </tr>\n",
       "    <tr>\n",
       "      <th>LinearRegression</th>\n",
       "      <td>0.734033125</td>\n",
       "    </tr>\n",
       "    <tr>\n",
       "      <th>LinearSVR</th>\n",
       "      <td>-2.926415146</td>\n",
       "    </tr>\n",
       "    <tr>\n",
       "      <th>RandomForestRegressor</th>\n",
       "      <td>-0.661405721</td>\n",
       "    </tr>\n",
       "    <tr>\n",
       "      <th>SVR</th>\n",
       "      <td>0.177415194</td>\n",
       "    </tr>\n",
       "    <tr>\n",
       "      <th rowspan=\"5\" valign=\"top\">GARRET MOTIN I</th>\n",
       "      <th>DecisionTreeRegressor</th>\n",
       "      <td>0.930560061</td>\n",
       "    </tr>\n",
       "    <tr>\n",
       "      <th>LinearRegression</th>\n",
       "      <td>0.896552762</td>\n",
       "    </tr>\n",
       "    <tr>\n",
       "      <th>LinearSVR</th>\n",
       "      <td>0.950523826</td>\n",
       "    </tr>\n",
       "    <tr>\n",
       "      <th>RandomForestRegressor</th>\n",
       "      <td>0.913445986</td>\n",
       "    </tr>\n",
       "    <tr>\n",
       "      <th>SVR</th>\n",
       "      <td>0.906255137</td>\n",
       "    </tr>\n",
       "    <tr>\n",
       "      <th rowspan=\"5\" valign=\"top\">JOHN BEAN TEC</th>\n",
       "      <th>DecisionTreeRegressor</th>\n",
       "      <td>0.755079924</td>\n",
       "    </tr>\n",
       "    <tr>\n",
       "      <th>LinearRegression</th>\n",
       "      <td>0.809823598</td>\n",
       "    </tr>\n",
       "    <tr>\n",
       "      <th>LinearSVR</th>\n",
       "      <td>0.835047085</td>\n",
       "    </tr>\n",
       "    <tr>\n",
       "      <th>RandomForestRegressor</th>\n",
       "      <td>0.748985186</td>\n",
       "    </tr>\n",
       "    <tr>\n",
       "      <th>SVR</th>\n",
       "      <td>0.831215856</td>\n",
       "    </tr>\n",
       "    <tr>\n",
       "      <th rowspan=\"5\" valign=\"top\">LEGGETT&amp; PLATT</th>\n",
       "      <th>DecisionTreeRegressor</th>\n",
       "      <td>0.344105833</td>\n",
       "    </tr>\n",
       "    <tr>\n",
       "      <th>LinearRegression</th>\n",
       "      <td>0.638511322</td>\n",
       "    </tr>\n",
       "    <tr>\n",
       "      <th>LinearSVR</th>\n",
       "      <td>0.449976920</td>\n",
       "    </tr>\n",
       "    <tr>\n",
       "      <th>RandomForestRegressor</th>\n",
       "      <td>0.334493697</td>\n",
       "    </tr>\n",
       "    <tr>\n",
       "      <th>SVR</th>\n",
       "      <td>0.356422362</td>\n",
       "    </tr>\n",
       "    <tr>\n",
       "      <th rowspan=\"5\" valign=\"top\">OIL STATES INT</th>\n",
       "      <th>DecisionTreeRegressor</th>\n",
       "      <td>0.330720591</td>\n",
       "    </tr>\n",
       "    <tr>\n",
       "      <th>LinearRegression</th>\n",
       "      <td>0.467913297</td>\n",
       "    </tr>\n",
       "    <tr>\n",
       "      <th>LinearSVR</th>\n",
       "      <td>0.510427372</td>\n",
       "    </tr>\n",
       "    <tr>\n",
       "      <th>RandomForestRegressor</th>\n",
       "      <td>0.286383598</td>\n",
       "    </tr>\n",
       "    <tr>\n",
       "      <th>SVR</th>\n",
       "      <td>0.527778360</td>\n",
       "    </tr>\n",
       "    <tr>\n",
       "      <th rowspan=\"5\" valign=\"top\">QUALYS INC</th>\n",
       "      <th>DecisionTreeRegressor</th>\n",
       "      <td>0.483027193</td>\n",
       "    </tr>\n",
       "    <tr>\n",
       "      <th>LinearRegression</th>\n",
       "      <td>0.955582367</td>\n",
       "    </tr>\n",
       "    <tr>\n",
       "      <th>LinearSVR</th>\n",
       "      <td>0.592980087</td>\n",
       "    </tr>\n",
       "    <tr>\n",
       "      <th>RandomForestRegressor</th>\n",
       "      <td>0.501786671</td>\n",
       "    </tr>\n",
       "    <tr>\n",
       "      <th>SVR</th>\n",
       "      <td>0.618894067</td>\n",
       "    </tr>\n",
       "    <tr>\n",
       "      <th rowspan=\"5\" valign=\"top\">SHAKE SHACK IN</th>\n",
       "      <th>DecisionTreeRegressor</th>\n",
       "      <td>0.075216990</td>\n",
       "    </tr>\n",
       "    <tr>\n",
       "      <th>LinearRegression</th>\n",
       "      <td>0.821748081</td>\n",
       "    </tr>\n",
       "    <tr>\n",
       "      <th>LinearSVR</th>\n",
       "      <td>-0.815772937</td>\n",
       "    </tr>\n",
       "    <tr>\n",
       "      <th>RandomForestRegressor</th>\n",
       "      <td>0.109940066</td>\n",
       "    </tr>\n",
       "    <tr>\n",
       "      <th>SVR</th>\n",
       "      <td>0.452397404</td>\n",
       "    </tr>\n",
       "  </tbody>\n",
       "</table>\n",
       "</div>"
      ],
      "text/plain": [
       "                                             test\n",
       "Name           Algo                              \n",
       "CAL-MAINE FOOD DecisionTreeRegressor  0.051853996\n",
       "               LinearRegression       0.666228509\n",
       "               LinearSVR              0.098135292\n",
       "               RandomForestRegressor  0.058829896\n",
       "               SVR                    0.371926959\n",
       "ENANTA PHARMAC DecisionTreeRegressor -0.414198792\n",
       "               LinearRegression      -0.035029399\n",
       "               LinearSVR              0.375629758\n",
       "               RandomForestRegressor -0.132558267\n",
       "               SVR                    0.259949178\n",
       "ENDO INTERNATI DecisionTreeRegressor -0.686882735\n",
       "               LinearRegression       0.734033125\n",
       "               LinearSVR             -2.926415146\n",
       "               RandomForestRegressor -0.661405721\n",
       "               SVR                    0.177415194\n",
       "GARRET MOTIN I DecisionTreeRegressor  0.930560061\n",
       "               LinearRegression       0.896552762\n",
       "               LinearSVR              0.950523826\n",
       "               RandomForestRegressor  0.913445986\n",
       "               SVR                    0.906255137\n",
       "JOHN BEAN TEC  DecisionTreeRegressor  0.755079924\n",
       "               LinearRegression       0.809823598\n",
       "               LinearSVR              0.835047085\n",
       "               RandomForestRegressor  0.748985186\n",
       "               SVR                    0.831215856\n",
       "LEGGETT& PLATT DecisionTreeRegressor  0.344105833\n",
       "               LinearRegression       0.638511322\n",
       "               LinearSVR              0.449976920\n",
       "               RandomForestRegressor  0.334493697\n",
       "               SVR                    0.356422362\n",
       "OIL STATES INT DecisionTreeRegressor  0.330720591\n",
       "               LinearRegression       0.467913297\n",
       "               LinearSVR              0.510427372\n",
       "               RandomForestRegressor  0.286383598\n",
       "               SVR                    0.527778360\n",
       "QUALYS INC     DecisionTreeRegressor  0.483027193\n",
       "               LinearRegression       0.955582367\n",
       "               LinearSVR              0.592980087\n",
       "               RandomForestRegressor  0.501786671\n",
       "               SVR                    0.618894067\n",
       "SHAKE SHACK IN DecisionTreeRegressor  0.075216990\n",
       "               LinearRegression       0.821748081\n",
       "               LinearSVR             -0.815772937\n",
       "               RandomForestRegressor  0.109940066\n",
       "               SVR                    0.452397404"
      ]
     },
     "execution_count": 113,
     "metadata": {},
     "output_type": "execute_result"
    }
   ],
   "source": [
    "group_by_algo = df_accuracy.groupby(['Name','Algo'])[['test']].sum()\n",
    "group_by_algo"
   ]
  },
  {
   "cell_type": "code",
   "execution_count": 114,
   "metadata": {},
   "outputs": [
    {
     "data": {
      "text/html": [
       "<div>\n",
       "<style scoped>\n",
       "    .dataframe tbody tr th:only-of-type {\n",
       "        vertical-align: middle;\n",
       "    }\n",
       "\n",
       "    .dataframe tbody tr th {\n",
       "        vertical-align: top;\n",
       "    }\n",
       "\n",
       "    .dataframe thead th {\n",
       "        text-align: right;\n",
       "    }\n",
       "</style>\n",
       "<table border=\"1\" class=\"dataframe\">\n",
       "  <thead>\n",
       "    <tr style=\"text-align: right;\">\n",
       "      <th></th>\n",
       "      <th>Name</th>\n",
       "      <th>Algo</th>\n",
       "      <th>test</th>\n",
       "      <th>y_test</th>\n",
       "      <th>y_pred</th>\n",
       "      <th>len</th>\n",
       "    </tr>\n",
       "  </thead>\n",
       "  <tbody>\n",
       "    <tr>\n",
       "      <th>4</th>\n",
       "      <td>JOHN BEAN TEC</td>\n",
       "      <td>SVR</td>\n",
       "      <td>0.831215856</td>\n",
       "      <td>[[198.0], [254.6], [243.2], [260.2], [230.3], ...</td>\n",
       "      <td>[260.37191926084, 267.2956035696353, 264.12021...</td>\n",
       "      <td>15</td>\n",
       "    </tr>\n",
       "    <tr>\n",
       "      <th>8</th>\n",
       "      <td>GARRET MOTIN I</td>\n",
       "      <td>SVR</td>\n",
       "      <td>0.906255137</td>\n",
       "      <td>[[784.0], [745.0], [775.0]]</td>\n",
       "      <td>[840.6143784794305, 839.2765429973409, 838.894...</td>\n",
       "      <td>3</td>\n",
       "    </tr>\n",
       "    <tr>\n",
       "      <th>13</th>\n",
       "      <td>JOHN BEAN TEC</td>\n",
       "      <td>LinearSVR</td>\n",
       "      <td>0.835047085</td>\n",
       "      <td>[[198.0], [254.6], [243.2], [260.2], [230.3], ...</td>\n",
       "      <td>[229.92266787532978, 240.64762234906314, 235.6...</td>\n",
       "      <td>15</td>\n",
       "    </tr>\n",
       "    <tr>\n",
       "      <th>17</th>\n",
       "      <td>GARRET MOTIN I</td>\n",
       "      <td>LinearSVR</td>\n",
       "      <td>0.950523826</td>\n",
       "      <td>[[784.0], [745.0], [775.0]]</td>\n",
       "      <td>[823.4656262356481, 799.4595720362191, 793.914...</td>\n",
       "      <td>3</td>\n",
       "    </tr>\n",
       "    <tr>\n",
       "      <th>22</th>\n",
       "      <td>JOHN BEAN TEC</td>\n",
       "      <td>DecisionTreeRegressor</td>\n",
       "      <td>0.755079924</td>\n",
       "      <td>[[198.0], [254.6], [243.2], [260.2], [230.3], ...</td>\n",
       "      <td>[233.5, 273.3, 273.3, 216.5, 252.5, 234.5, 386...</td>\n",
       "      <td>15</td>\n",
       "    </tr>\n",
       "    <tr>\n",
       "      <th>26</th>\n",
       "      <td>GARRET MOTIN I</td>\n",
       "      <td>DecisionTreeRegressor</td>\n",
       "      <td>0.930560061</td>\n",
       "      <td>[[784.0], [745.0], [775.0]]</td>\n",
       "      <td>[877.0, 804.0, 772.0]</td>\n",
       "      <td>3</td>\n",
       "    </tr>\n",
       "    <tr>\n",
       "      <th>29</th>\n",
       "      <td>ENDO INTERNATI</td>\n",
       "      <td>LinearRegression</td>\n",
       "      <td>0.734033125</td>\n",
       "      <td>[[217.125], [290.27099999999996], [240.7890000...</td>\n",
       "      <td>[[312.9749854972747], [355.56789133946336], [2...</td>\n",
       "      <td>13</td>\n",
       "    </tr>\n",
       "    <tr>\n",
       "      <th>31</th>\n",
       "      <td>JOHN BEAN TEC</td>\n",
       "      <td>LinearRegression</td>\n",
       "      <td>0.809823598</td>\n",
       "      <td>[[198.0], [254.6], [243.2], [260.2], [230.3], ...</td>\n",
       "      <td>[[286.4833367918295], [338.5263782589416], [31...</td>\n",
       "      <td>15</td>\n",
       "    </tr>\n",
       "    <tr>\n",
       "      <th>32</th>\n",
       "      <td>QUALYS INC</td>\n",
       "      <td>LinearRegression</td>\n",
       "      <td>0.955582367</td>\n",
       "      <td>[[21.191], [50.986999999999995], [55.302], [36...</td>\n",
       "      <td>[[20.826689121222614], [49.705290679694656], [...</td>\n",
       "      <td>9</td>\n",
       "    </tr>\n",
       "    <tr>\n",
       "      <th>34</th>\n",
       "      <td>SHAKE SHACK IN</td>\n",
       "      <td>LinearRegression</td>\n",
       "      <td>0.821748081</td>\n",
       "      <td>[[16.07], [99.116], [53.273], [66.472], [20.95...</td>\n",
       "      <td>[[6.820219003845864], [99.1782679200902], [60....</td>\n",
       "      <td>9</td>\n",
       "    </tr>\n",
       "    <tr>\n",
       "      <th>35</th>\n",
       "      <td>GARRET MOTIN I</td>\n",
       "      <td>LinearRegression</td>\n",
       "      <td>0.896552762</td>\n",
       "      <td>[[784.0], [745.0], [775.0]]</td>\n",
       "      <td>[[925.1263761753335], [821.0004923137512], [79...</td>\n",
       "      <td>3</td>\n",
       "    </tr>\n",
       "    <tr>\n",
       "      <th>40</th>\n",
       "      <td>JOHN BEAN TEC</td>\n",
       "      <td>RandomForestRegressor</td>\n",
       "      <td>0.748985186</td>\n",
       "      <td>[[198.0], [254.6], [243.2], [260.2], [230.3], ...</td>\n",
       "      <td>[228.99219999999937, 295.4948, 291.54, 226.200...</td>\n",
       "      <td>15</td>\n",
       "    </tr>\n",
       "    <tr>\n",
       "      <th>44</th>\n",
       "      <td>GARRET MOTIN I</td>\n",
       "      <td>RandomForestRegressor</td>\n",
       "      <td>0.913445986</td>\n",
       "      <td>[[784.0], [745.0], [775.0]]</td>\n",
       "      <td>[881.84, 833.772, 786.614]</td>\n",
       "      <td>3</td>\n",
       "    </tr>\n",
       "  </tbody>\n",
       "</table>\n",
       "</div>"
      ],
      "text/plain": [
       "              Name                   Algo        test  \\\n",
       "4    JOHN BEAN TEC                    SVR 0.831215856   \n",
       "8   GARRET MOTIN I                    SVR 0.906255137   \n",
       "13   JOHN BEAN TEC              LinearSVR 0.835047085   \n",
       "17  GARRET MOTIN I              LinearSVR 0.950523826   \n",
       "22   JOHN BEAN TEC  DecisionTreeRegressor 0.755079924   \n",
       "26  GARRET MOTIN I  DecisionTreeRegressor 0.930560061   \n",
       "29  ENDO INTERNATI       LinearRegression 0.734033125   \n",
       "31   JOHN BEAN TEC       LinearRegression 0.809823598   \n",
       "32      QUALYS INC       LinearRegression 0.955582367   \n",
       "34  SHAKE SHACK IN       LinearRegression 0.821748081   \n",
       "35  GARRET MOTIN I       LinearRegression 0.896552762   \n",
       "40   JOHN BEAN TEC  RandomForestRegressor 0.748985186   \n",
       "44  GARRET MOTIN I  RandomForestRegressor 0.913445986   \n",
       "\n",
       "                                               y_test  \\\n",
       "4   [[198.0], [254.6], [243.2], [260.2], [230.3], ...   \n",
       "8                         [[784.0], [745.0], [775.0]]   \n",
       "13  [[198.0], [254.6], [243.2], [260.2], [230.3], ...   \n",
       "17                        [[784.0], [745.0], [775.0]]   \n",
       "22  [[198.0], [254.6], [243.2], [260.2], [230.3], ...   \n",
       "26                        [[784.0], [745.0], [775.0]]   \n",
       "29  [[217.125], [290.27099999999996], [240.7890000...   \n",
       "31  [[198.0], [254.6], [243.2], [260.2], [230.3], ...   \n",
       "32  [[21.191], [50.986999999999995], [55.302], [36...   \n",
       "34  [[16.07], [99.116], [53.273], [66.472], [20.95...   \n",
       "35                        [[784.0], [745.0], [775.0]]   \n",
       "40  [[198.0], [254.6], [243.2], [260.2], [230.3], ...   \n",
       "44                        [[784.0], [745.0], [775.0]]   \n",
       "\n",
       "                                               y_pred  len  \n",
       "4   [260.37191926084, 267.2956035696353, 264.12021...   15  \n",
       "8   [840.6143784794305, 839.2765429973409, 838.894...    3  \n",
       "13  [229.92266787532978, 240.64762234906314, 235.6...   15  \n",
       "17  [823.4656262356481, 799.4595720362191, 793.914...    3  \n",
       "22  [233.5, 273.3, 273.3, 216.5, 252.5, 234.5, 386...   15  \n",
       "26                              [877.0, 804.0, 772.0]    3  \n",
       "29  [[312.9749854972747], [355.56789133946336], [2...   13  \n",
       "31  [[286.4833367918295], [338.5263782589416], [31...   15  \n",
       "32  [[20.826689121222614], [49.705290679694656], [...    9  \n",
       "34  [[6.820219003845864], [99.1782679200902], [60....    9  \n",
       "35  [[925.1263761753335], [821.0004923137512], [79...    3  \n",
       "40  [228.99219999999937, 295.4948, 291.54, 226.200...   15  \n",
       "44                         [881.84, 833.772, 786.614]    3  "
      ]
     },
     "execution_count": 114,
     "metadata": {},
     "output_type": "execute_result"
    }
   ],
   "source": [
    "df_accuracy[df_accuracy.test>0.7]"
   ]
  },
  {
   "cell_type": "code",
   "execution_count": 92,
   "metadata": {
    "scrolled": false
   },
   "outputs": [
    {
     "data": {
      "text/plain": [
       "<matplotlib.collections.PathCollection at 0x2640f978d08>"
      ]
     },
     "execution_count": 92,
     "metadata": {},
     "output_type": "execute_result"
    },
    {
     "data": {
      "image/png": "[encoded data removed]",
      "text/plain": [
       "<Figure size 1120x560 with 1 Axes>"
      ]
     },
     "metadata": {},
     "output_type": "display_data"
    }
   ],
   "source": [
    "fig=plt.figure(figsize=(14, 7), dpi= 80, facecolor='w', edgecolor='k')\n",
    "plt.scatter(df_reg[df_reg.Name == 'LEGGETT& PLATT']['GDP'],\n",
    "            df_reg[df_reg.Name == 'LEGGETT& PLATT']['revenue'])\n"
   ]
  },
  {
   "cell_type": "code",
   "execution_count": 85,
   "metadata": {},
   "outputs": [
    {
     "data": {
      "text/html": [
       "<div>\n",
       "<style scoped>\n",
       "    .dataframe tbody tr th:only-of-type {\n",
       "        vertical-align: middle;\n",
       "    }\n",
       "\n",
       "    .dataframe tbody tr th {\n",
       "        vertical-align: top;\n",
       "    }\n",
       "\n",
       "    .dataframe thead th {\n",
       "        text-align: right;\n",
       "    }\n",
       "</style>\n",
       "<table border=\"1\" class=\"dataframe\">\n",
       "  <thead>\n",
       "    <tr style=\"text-align: right;\">\n",
       "      <th></th>\n",
       "      <th>0</th>\n",
       "      <th>1</th>\n",
       "    </tr>\n",
       "  </thead>\n",
       "  <tbody>\n",
       "    <tr>\n",
       "      <th>0</th>\n",
       "      <td>960.300000000</td>\n",
       "      <td>[903.7]</td>\n",
       "    </tr>\n",
       "    <tr>\n",
       "      <th>1</th>\n",
       "      <td>363.000000000</td>\n",
       "      <td>[333.82300000000004]</td>\n",
       "    </tr>\n",
       "    <tr>\n",
       "      <th>2</th>\n",
       "      <td>628.600000000</td>\n",
       "      <td>[620.0]</td>\n",
       "    </tr>\n",
       "    <tr>\n",
       "      <th>3</th>\n",
       "      <td>285.004000000</td>\n",
       "      <td>[284.709]</td>\n",
       "    </tr>\n",
       "    <tr>\n",
       "      <th>4</th>\n",
       "      <td>984.500000000</td>\n",
       "      <td>[1009.7]</td>\n",
       "    </tr>\n",
       "    <tr>\n",
       "      <th>5</th>\n",
       "      <td>1,187.200000000</td>\n",
       "      <td>[1278.1]</td>\n",
       "    </tr>\n",
       "    <tr>\n",
       "      <th>6</th>\n",
       "      <td>1,355.600000000</td>\n",
       "      <td>[1323.8]</td>\n",
       "    </tr>\n",
       "    <tr>\n",
       "      <th>7</th>\n",
       "      <td>718.100000000</td>\n",
       "      <td>[757.4]</td>\n",
       "    </tr>\n",
       "    <tr>\n",
       "      <th>8</th>\n",
       "      <td>673.200000000</td>\n",
       "      <td>[626.4]</td>\n",
       "    </tr>\n",
       "    <tr>\n",
       "      <th>9</th>\n",
       "      <td>282.895000000</td>\n",
       "      <td>[259.599]</td>\n",
       "    </tr>\n",
       "    <tr>\n",
       "      <th>10</th>\n",
       "      <td>877.600000000</td>\n",
       "      <td>[958.8]</td>\n",
       "    </tr>\n",
       "    <tr>\n",
       "      <th>11</th>\n",
       "      <td>1,007.500000000</td>\n",
       "      <td>[1056.8]</td>\n",
       "    </tr>\n",
       "    <tr>\n",
       "      <th>12</th>\n",
       "      <td>1,187.200000000</td>\n",
       "      <td>[1141.2]</td>\n",
       "    </tr>\n",
       "    <tr>\n",
       "      <th>13</th>\n",
       "      <td>877.600000000</td>\n",
       "      <td>[859.2]</td>\n",
       "    </tr>\n",
       "    <tr>\n",
       "      <th>14</th>\n",
       "      <td>958.900000000</td>\n",
       "      <td>[948.9]</td>\n",
       "    </tr>\n",
       "    <tr>\n",
       "      <th>15</th>\n",
       "      <td>866.500000000</td>\n",
       "      <td>[998.3]</td>\n",
       "    </tr>\n",
       "    <tr>\n",
       "      <th>16</th>\n",
       "      <td>997.400000000</td>\n",
       "      <td>[953.3]</td>\n",
       "    </tr>\n",
       "    <tr>\n",
       "      <th>17</th>\n",
       "      <td>482.600000000</td>\n",
       "      <td>[448.8]</td>\n",
       "    </tr>\n",
       "    <tr>\n",
       "      <th>18</th>\n",
       "      <td>371.700000000</td>\n",
       "      <td>[395.4]</td>\n",
       "    </tr>\n",
       "    <tr>\n",
       "      <th>19</th>\n",
       "      <td>551.300000000</td>\n",
       "      <td>[541.6]</td>\n",
       "    </tr>\n",
       "    <tr>\n",
       "      <th>20</th>\n",
       "      <td>1,039.700000000</td>\n",
       "      <td>[945.2]</td>\n",
       "    </tr>\n",
       "    <tr>\n",
       "      <th>21</th>\n",
       "      <td>978.100000000</td>\n",
       "      <td>[558.5]</td>\n",
       "    </tr>\n",
       "    <tr>\n",
       "      <th>22</th>\n",
       "      <td>747.000000000</td>\n",
       "      <td>[767.8]</td>\n",
       "    </tr>\n",
       "    <tr>\n",
       "      <th>23</th>\n",
       "      <td>1,007.500000000</td>\n",
       "      <td>[1053.3]</td>\n",
       "    </tr>\n",
       "    <tr>\n",
       "      <th>24</th>\n",
       "      <td>340.559000000</td>\n",
       "      <td>[355.909]</td>\n",
       "    </tr>\n",
       "    <tr>\n",
       "      <th>25</th>\n",
       "      <td>882.500000000</td>\n",
       "      <td>[769.7]</td>\n",
       "    </tr>\n",
       "    <tr>\n",
       "      <th>26</th>\n",
       "      <td>1,063.100000000</td>\n",
       "      <td>[801.9]</td>\n",
       "    </tr>\n",
       "    <tr>\n",
       "      <th>27</th>\n",
       "      <td>1,348.600000000</td>\n",
       "      <td>[1309.8]</td>\n",
       "    </tr>\n",
       "    <tr>\n",
       "      <th>28</th>\n",
       "      <td>282.895000000</td>\n",
       "      <td>[263.153]</td>\n",
       "    </tr>\n",
       "    <tr>\n",
       "      <th>29</th>\n",
       "      <td>877.600000000</td>\n",
       "      <td>[932.7]</td>\n",
       "    </tr>\n",
       "    <tr>\n",
       "      <th>30</th>\n",
       "      <td>1,282.200000000</td>\n",
       "      <td>[1301.3]</td>\n",
       "    </tr>\n",
       "    <tr>\n",
       "      <th>31</th>\n",
       "      <td>855.400000000</td>\n",
       "      <td>[884.1]</td>\n",
       "    </tr>\n",
       "    <tr>\n",
       "      <th>32</th>\n",
       "      <td>285.004000000</td>\n",
       "      <td>[256.566]</td>\n",
       "    </tr>\n",
       "    <tr>\n",
       "      <th>33</th>\n",
       "      <td>877.600000000</td>\n",
       "      <td>[875.5]</td>\n",
       "    </tr>\n",
       "  </tbody>\n",
       "</table>\n",
       "</div>"
      ],
      "text/plain": [
       "                 0                     1\n",
       "0    960.300000000               [903.7]\n",
       "1    363.000000000  [333.82300000000004]\n",
       "2    628.600000000               [620.0]\n",
       "3    285.004000000             [284.709]\n",
       "4    984.500000000              [1009.7]\n",
       "5  1,187.200000000              [1278.1]\n",
       "6  1,355.600000000              [1323.8]\n",
       "7    718.100000000               [757.4]\n",
       "8    673.200000000               [626.4]\n",
       "9    282.895000000             [259.599]\n",
       "10   877.600000000               [958.8]\n",
       "11 1,007.500000000              [1056.8]\n",
       "12 1,187.200000000              [1141.2]\n",
       "13   877.600000000               [859.2]\n",
       "14   958.900000000               [948.9]\n",
       "15   866.500000000               [998.3]\n",
       "16   997.400000000               [953.3]\n",
       "17   482.600000000               [448.8]\n",
       "18   371.700000000               [395.4]\n",
       "19   551.300000000               [541.6]\n",
       "20 1,039.700000000               [945.2]\n",
       "21   978.100000000               [558.5]\n",
       "22   747.000000000               [767.8]\n",
       "23 1,007.500000000              [1053.3]\n",
       "24   340.559000000             [355.909]\n",
       "25   882.500000000               [769.7]\n",
       "26 1,063.100000000               [801.9]\n",
       "27 1,348.600000000              [1309.8]\n",
       "28   282.895000000             [263.153]\n",
       "29   877.600000000               [932.7]\n",
       "30 1,282.200000000              [1301.3]\n",
       "31   855.400000000               [884.1]\n",
       "32   285.004000000             [256.566]\n",
       "33   877.600000000               [875.5]"
      ]
     },
     "execution_count": 85,
     "metadata": {},
     "output_type": "execute_result"
    }
   ],
   "source": [
    "pd.DataFrame([df_accuracy[df_accuracy.Name == 'LEGGETT& PLATT']['y_pred'][18],\n",
    "              df_accuracy[df_accuracy.Name == 'LEGGETT& PLATT']['y_test'][27]]).T"
   ]
  },
  {
   "cell_type": "code",
   "execution_count": 43,
   "metadata": {},
   "outputs": [
    {
     "data": {
      "text/plain": [
       "array([[ True],\n",
       "       [False],\n",
       "       [False],\n",
       "       [ True],\n",
       "       [ True],\n",
       "       [ True],\n",
       "       [ True],\n",
       "       [ True],\n",
       "       [ True],\n",
       "       [False],\n",
       "       [ True],\n",
       "       [ True],\n",
       "       [ True],\n",
       "       [ True],\n",
       "       [ True],\n",
       "       [ True],\n",
       "       [ True],\n",
       "       [ True],\n",
       "       [ True],\n",
       "       [ True],\n",
       "       [ True],\n",
       "       [ True],\n",
       "       [ True]])"
      ]
     },
     "execution_count": 43,
     "metadata": {},
     "output_type": "execute_result"
    }
   ],
   "source": [
    "df_accuracy[df_accuracy.Name == 'LEGGETT& PLATT']['y_test'][27]"
   ]
  },
  {
   "cell_type": "code",
   "execution_count": 136,
   "metadata": {},
   "outputs": [
    {
     "data": {
      "application/vnd.plotly.v1+json": {
       "config": {
        "plotlyServerURL": "https://plot.ly"
       },
       "data": [
        {
         "mode": "lines+markers",
         "name": "notre prediction",
         "type": "scatter",
         "x": [
          8,
          26,
          32,
          44
         ],
         "y": [
          9.37448630154034,
          6.517836339991723,
          2.125472615737077,
          8.655401367171685
         ]
        },
        {
         "mode": "lines+markers",
         "name": "prediction des analystes",
         "type": "scatter",
         "x": [
          8,
          26,
          32,
          44
         ],
         "y": [
          5.019428571428571,
          5.019428571428571,
          23.238137931034476,
          5.019428571428571
         ]
        }
       ],
       "layout": {
        "template": {
         "data": {
          "bar": [
           {
            "error_x": {
             "color": "#2a3f5f"
            },
            "error_y": {
             "color": "#2a3f5f"
            },
            "marker": {
             "line": {
              "color": "#E5ECF6",
              "width": 0.5
             }
            },
            "type": "bar"
           }
          ],
          "barpolar": [
           {
            "marker": {
             "line": {
              "color": "#E5ECF6",
              "width": 0.5
             }
            },
            "type": "barpolar"
           }
          ],
          "carpet": [
           {
            "aaxis": {
             "endlinecolor": "#2a3f5f",
             "gridcolor": "white",
             "linecolor": "white",
             "minorgridcolor": "white",
             "startlinecolor": "#2a3f5f"
            },
            "baxis": {
             "endlinecolor": "#2a3f5f",
             "gridcolor": "white",
             "linecolor": "white",
             "minorgridcolor": "white",
             "startlinecolor": "#2a3f5f"
            },
            "type": "carpet"
           }
          ],
          "choropleth": [
           {
            "colorbar": {
             "outlinewidth": 0,
             "ticks": ""
            },
            "type": "choropleth"
           }
          ],
          "contour": [
           {
            "colorbar": {
             "outlinewidth": 0,
             "ticks": ""
            },
            "colorscale": [
             [
              0,
              "#0d0887"
             ],
             [
              0.1111111111111111,
              "#46039f"
             ],
             [
              0.2222222222222222,
              "#7201a8"
             ],
             [
              0.3333333333333333,
              "#9c179e"
             ],
             [
              0.4444444444444444,
              "#bd3786"
             ],
             [
              0.5555555555555556,
              "#d8576b"
             ],
             [
              0.6666666666666666,
              "#ed7953"
             ],
             [
              0.7777777777777778,
              "#fb9f3a"
             ],
             [
              0.8888888888888888,
              "#fdca26"
             ],
             [
              1,
              "#f0f921"
             ]
            ],
            "type": "contour"
           }
          ],
          "contourcarpet": [
           {
            "colorbar": {
             "outlinewidth": 0,
             "ticks": ""
            },
            "type": "contourcarpet"
           }
          ],
          "heatmap": [
           {
            "colorbar": {
             "outlinewidth": 0,
             "ticks": ""
            },
            "colorscale": [
             [
              0,
              "#0d0887"
             ],
             [
              0.1111111111111111,
              "#46039f"
             ],
             [
              0.2222222222222222,
              "#7201a8"
             ],
             [
              0.3333333333333333,
              "#9c179e"
             ],
             [
              0.4444444444444444,
              "#bd3786"
             ],
             [
              0.5555555555555556,
              "#d8576b"
             ],
             [
              0.6666666666666666,
              "#ed7953"
             ],
             [
              0.7777777777777778,
              "#fb9f3a"
             ],
             [
              0.8888888888888888,
              "#fdca26"
             ],
             [
              1,
              "#f0f921"
             ]
            ],
            "type": "heatmap"
           }
          ],
          "heatmapgl": [
           {
            "colorbar": {
             "outlinewidth": 0,
             "ticks": ""
            },
            "colorscale": [
             [
              0,
              "#0d0887"
             ],
             [
              0.1111111111111111,
              "#46039f"
             ],
             [
              0.2222222222222222,
              "#7201a8"
             ],
             [
              0.3333333333333333,
              "#9c179e"
             ],
             [
              0.4444444444444444,
              "#bd3786"
             ],
             [
              0.5555555555555556,
              "#d8576b"
             ],
             [
              0.6666666666666666,
              "#ed7953"
             ],
             [
              0.7777777777777778,
              "#fb9f3a"
             ],
             [
              0.8888888888888888,
              "#fdca26"
             ],
             [
              1,
              "#f0f921"
             ]
            ],
            "type": "heatmapgl"
           }
          ],
          "histogram": [
           {
            "marker": {
             "colorbar": {
              "outlinewidth": 0,
              "ticks": ""
             }
            },
            "type": "histogram"
           }
          ],
          "histogram2d": [
           {
            "colorbar": {
             "outlinewidth": 0,
             "ticks": ""
            },
            "colorscale": [
             [
              0,
              "#0d0887"
             ],
             [
              0.1111111111111111,
              "#46039f"
             ],
             [
              0.2222222222222222,
              "#7201a8"
             ],
             [
              0.3333333333333333,
              "#9c179e"
             ],
             [
              0.4444444444444444,
              "#bd3786"
             ],
             [
              0.5555555555555556,
              "#d8576b"
             ],
             [
              0.6666666666666666,
              "#ed7953"
             ],
             [
              0.7777777777777778,
              "#fb9f3a"
             ],
             [
              0.8888888888888888,
              "#fdca26"
             ],
             [
              1,
              "#f0f921"
             ]
            ],
            "type": "histogram2d"
           }
          ],
          "histogram2dcontour": [
           {
            "colorbar": {
             "outlinewidth": 0,
             "ticks": ""
            },
            "colorscale": [
             [
              0,
              "#0d0887"
             ],
             [
              0.1111111111111111,
              "#46039f"
             ],
             [
              0.2222222222222222,
              "#7201a8"
             ],
             [
              0.3333333333333333,
              "#9c179e"
             ],
             [
              0.4444444444444444,
              "#bd3786"
             ],
             [
              0.5555555555555556,
              "#d8576b"
             ],
             [
              0.6666666666666666,
              "#ed7953"
             ],
             [
              0.7777777777777778,
              "#fb9f3a"
             ],
             [
              0.8888888888888888,
              "#fdca26"
             ],
             [
              1,
              "#f0f921"
             ]
            ],
            "type": "histogram2dcontour"
           }
          ],
          "mesh3d": [
           {
            "colorbar": {
             "outlinewidth": 0,
             "ticks": ""
            },
            "type": "mesh3d"
           }
          ],
          "parcoords": [
           {
            "line": {
             "colorbar": {
              "outlinewidth": 0,
              "ticks": ""
             }
            },
            "type": "parcoords"
           }
          ],
          "pie": [
           {
            "automargin": true,
            "type": "pie"
           }
          ],
          "scatter": [
           {
            "marker": {
             "colorbar": {
              "outlinewidth": 0,
              "ticks": ""
             }
            },
            "type": "scatter"
           }
          ],
          "scatter3d": [
           {
            "line": {
             "colorbar": {
              "outlinewidth": 0,
              "ticks": ""
             }
            },
            "marker": {
             "colorbar": {
              "outlinewidth": 0,
              "ticks": ""
             }
            },
            "type": "scatter3d"
           }
          ],
          "scattercarpet": [
           {
            "marker": {
             "colorbar": {
              "outlinewidth": 0,
              "ticks": ""
             }
            },
            "type": "scattercarpet"
           }
          ],
          "scattergeo": [
           {
            "marker": {
             "colorbar": {
              "outlinewidth": 0,
              "ticks": ""
             }
            },
            "type": "scattergeo"
           }
          ],
          "scattergl": [
           {
            "marker": {
             "colorbar": {
              "outlinewidth": 0,
              "ticks": ""
             }
            },
            "type": "scattergl"
           }
          ],
          "scattermapbox": [
           {
            "marker": {
             "colorbar": {
              "outlinewidth": 0,
              "ticks": ""
             }
            },
            "type": "scattermapbox"
           }
          ],
          "scatterpolar": [
           {
            "marker": {
             "colorbar": {
              "outlinewidth": 0,
              "ticks": ""
             }
            },
            "type": "scatterpolar"
           }
          ],
          "scatterpolargl": [
           {
            "marker": {
             "colorbar": {
              "outlinewidth": 0,
              "ticks": ""
             }
            },
            "type": "scatterpolargl"
           }
          ],
          "scatterternary": [
           {
            "marker": {
             "colorbar": {
              "outlinewidth": 0,
              "ticks": ""
             }
            },
            "type": "scatterternary"
           }
          ],
          "surface": [
           {
            "colorbar": {
             "outlinewidth": 0,
             "ticks": ""
            },
            "colorscale": [
             [
              0,
              "#0d0887"
             ],
             [
              0.1111111111111111,
              "#46039f"
             ],
             [
              0.2222222222222222,
              "#7201a8"
             ],
             [
              0.3333333333333333,
              "#9c179e"
             ],
             [
              0.4444444444444444,
              "#bd3786"
             ],
             [
              0.5555555555555556,
              "#d8576b"
             ],
             [
              0.6666666666666666,
              "#ed7953"
             ],
             [
              0.7777777777777778,
              "#fb9f3a"
             ],
             [
              0.8888888888888888,
              "#fdca26"
             ],
             [
              1,
              "#f0f921"
             ]
            ],
            "type": "surface"
           }
          ],
          "table": [
           {
            "cells": {
             "fill": {
              "color": "#EBF0F8"
             },
             "line": {
              "color": "white"
             }
            },
            "header": {
             "fill": {
              "color": "#C8D4E3"
             },
             "line": {
              "color": "white"
             }
            },
            "type": "table"
           }
          ]
         },
         "layout": {
          "annotationdefaults": {
           "arrowcolor": "#2a3f5f",
           "arrowhead": 0,
           "arrowwidth": 1
          },
          "coloraxis": {
           "colorbar": {
            "outlinewidth": 0,
            "ticks": ""
           }
          },
          "colorscale": {
           "diverging": [
            [
             0,
             "#8e0152"
            ],
            [
             0.1,
             "#c51b7d"
            ],
            [
             0.2,
             "#de77ae"
            ],
            [
             0.3,
             "#f1b6da"
            ],
            [
             0.4,
             "#fde0ef"
            ],
            [
             0.5,
             "#f7f7f7"
            ],
            [
             0.6,
             "#e6f5d0"
            ],
            [
             0.7,
             "#b8e186"
            ],
            [
             0.8,
             "#7fbc41"
            ],
            [
             0.9,
             "#4d9221"
            ],
            [
             1,
             "#276419"
            ]
           ],
           "sequential": [
            [
             0,
             "#0d0887"
            ],
            [
             0.1111111111111111,
             "#46039f"
            ],
            [
             0.2222222222222222,
             "#7201a8"
            ],
            [
             0.3333333333333333,
             "#9c179e"
            ],
            [
             0.4444444444444444,
             "#bd3786"
            ],
            [
             0.5555555555555556,
             "#d8576b"
            ],
            [
             0.6666666666666666,
             "#ed7953"
            ],
            [
             0.7777777777777778,
             "#fb9f3a"
            ],
            [
             0.8888888888888888,
             "#fdca26"
            ],
            [
             1,
             "#f0f921"
            ]
           ],
           "sequentialminus": [
            [
             0,
             "#0d0887"
            ],
            [
             0.1111111111111111,
             "#46039f"
            ],
            [
             0.2222222222222222,
             "#7201a8"
            ],
            [
             0.3333333333333333,
             "#9c179e"
            ],
            [
             0.4444444444444444,
             "#bd3786"
            ],
            [
             0.5555555555555556,
             "#d8576b"
            ],
            [
             0.6666666666666666,
             "#ed7953"
            ],
            [
             0.7777777777777778,
             "#fb9f3a"
            ],
            [
             0.8888888888888888,
             "#fdca26"
            ],
            [
             1,
             "#f0f921"
            ]
           ]
          },
          "colorway": [
           "#636efa",
           "#EF553B",
           "#00cc96",
           "#ab63fa",
           "#FFA15A",
           "#19d3f3",
           "#FF6692",
           "#B6E880",
           "#FF97FF",
           "#FECB52"
          ],
          "font": {
           "color": "#2a3f5f"
          },
          "geo": {
           "bgcolor": "white",
           "lakecolor": "white",
           "landcolor": "#E5ECF6",
           "showlakes": true,
           "showland": true,
           "subunitcolor": "white"
          },
          "hoverlabel": {
           "align": "left"
          },
          "hovermode": "closest",
          "mapbox": {
           "style": "light"
          },
          "paper_bgcolor": "white",
          "plot_bgcolor": "#E5ECF6",
          "polar": {
           "angularaxis": {
            "gridcolor": "white",
            "linecolor": "white",
            "ticks": ""
           },
           "bgcolor": "#E5ECF6",
           "radialaxis": {
            "gridcolor": "white",
            "linecolor": "white",
            "ticks": ""
           }
          },
          "scene": {
           "xaxis": {
            "backgroundcolor": "#E5ECF6",
            "gridcolor": "white",
            "gridwidth": 2,
            "linecolor": "white",
            "showbackground": true,
            "ticks": "",
            "zerolinecolor": "white"
           },
           "yaxis": {
            "backgroundcolor": "#E5ECF6",
            "gridcolor": "white",
            "gridwidth": 2,
            "linecolor": "white",
            "showbackground": true,
            "ticks": "",
            "zerolinecolor": "white"
           },
           "zaxis": {
            "backgroundcolor": "#E5ECF6",
            "gridcolor": "white",
            "gridwidth": 2,
            "linecolor": "white",
            "showbackground": true,
            "ticks": "",
            "zerolinecolor": "white"
           }
          },
          "shapedefaults": {
           "line": {
            "color": "#2a3f5f"
           }
          },
          "ternary": {
           "aaxis": {
            "gridcolor": "white",
            "linecolor": "white",
            "ticks": ""
           },
           "baxis": {
            "gridcolor": "white",
            "linecolor": "white",
            "ticks": ""
           },
           "bgcolor": "#E5ECF6",
           "caxis": {
            "gridcolor": "white",
            "linecolor": "white",
            "ticks": ""
           }
          },
          "title": {
           "x": 0.05
          },
          "xaxis": {
           "automargin": true,
           "gridcolor": "white",
           "linecolor": "white",
           "ticks": "",
           "title": {
            "standoff": 15
           },
           "zerolinecolor": "white",
           "zerolinewidth": 2
          },
          "yaxis": {
           "automargin": true,
           "gridcolor": "white",
           "linecolor": "white",
           "ticks": "",
           "title": {
            "standoff": 15
           },
           "zerolinecolor": "white",
           "zerolinewidth": 2
          }
         }
        }
       }
      },
      "text/html": [
       "<div>\n",
       "        \n",
       "        \n",
       "            <div id=\"bc67e02b-3a2b-4e14-aa63-968107bb6e97\" class=\"plotly-graph-div\" style=\"height:525px; width:100%;\"></div>\n",
       "            <script type=\"text/javascript\">\n",
       "                require([\"plotly\"], function(Plotly) {\n",
       "                    window.PLOTLYENV=window.PLOTLYENV || {};\n",
       "                    \n",
       "                if (document.getElementById(\"bc67e02b-3a2b-4e14-aa63-968107bb6e97\")) {\n",
       "                    Plotly.newPlot(\n",
       "                        'bc67e02b-3a2b-4e14-aa63-968107bb6e97',\n",
       "                        [{\"mode\": \"lines+markers\", \"name\": \"notre prediction\", \"type\": \"scatter\", \"x\": [8, 26, 32, 44], \"y\": [9.37448630154034, 6.517836339991723, 2.125472615737077, 8.655401367171685]}, {\"mode\": \"lines+markers\", \"name\": \"prediction des analystes\", \"type\": \"scatter\", \"x\": [8, 26, 32, 44], \"y\": [5.019428571428571, 5.019428571428571, 23.238137931034476, 5.019428571428571]}],\n",
       "                        {\"template\": {\"data\": {\"bar\": [{\"error_x\": {\"color\": \"#2a3f5f\"}, \"error_y\": {\"color\": \"#2a3f5f\"}, \"marker\": {\"line\": {\"color\": \"#E5ECF6\", \"width\": 0.5}}, \"type\": \"bar\"}], \"barpolar\": [{\"marker\": {\"line\": {\"color\": \"#E5ECF6\", \"width\": 0.5}}, \"type\": \"barpolar\"}], \"carpet\": [{\"aaxis\": {\"endlinecolor\": \"#2a3f5f\", \"gridcolor\": \"white\", \"linecolor\": \"white\", \"minorgridcolor\": \"white\", \"startlinecolor\": \"#2a3f5f\"}, \"baxis\": {\"endlinecolor\": \"#2a3f5f\", \"gridcolor\": \"white\", \"linecolor\": \"white\", \"minorgridcolor\": \"white\", \"startlinecolor\": \"#2a3f5f\"}, \"type\": \"carpet\"}], \"choropleth\": [{\"colorbar\": {\"outlinewidth\": 0, \"ticks\": \"\"}, \"type\": \"choropleth\"}], \"contour\": [{\"colorbar\": {\"outlinewidth\": 0, \"ticks\": \"\"}, \"colorscale\": [[0.0, \"#0d0887\"], [0.1111111111111111, \"#46039f\"], [0.2222222222222222, \"#7201a8\"], [0.3333333333333333, \"#9c179e\"], [0.4444444444444444, \"#bd3786\"], [0.5555555555555556, \"#d8576b\"], [0.6666666666666666, \"#ed7953\"], [0.7777777777777778, \"#fb9f3a\"], [0.8888888888888888, \"#fdca26\"], [1.0, \"#f0f921\"]], \"type\": \"contour\"}], \"contourcarpet\": [{\"colorbar\": {\"outlinewidth\": 0, \"ticks\": \"\"}, \"type\": \"contourcarpet\"}], \"heatmap\": [{\"colorbar\": {\"outlinewidth\": 0, \"ticks\": \"\"}, \"colorscale\": [[0.0, \"#0d0887\"], [0.1111111111111111, \"#46039f\"], [0.2222222222222222, \"#7201a8\"], [0.3333333333333333, \"#9c179e\"], [0.4444444444444444, \"#bd3786\"], [0.5555555555555556, \"#d8576b\"], [0.6666666666666666, \"#ed7953\"], [0.7777777777777778, \"#fb9f3a\"], [0.8888888888888888, \"#fdca26\"], [1.0, \"#f0f921\"]], \"type\": \"heatmap\"}], \"heatmapgl\": [{\"colorbar\": {\"outlinewidth\": 0, \"ticks\": \"\"}, \"colorscale\": [[0.0, \"#0d0887\"], [0.1111111111111111, \"#46039f\"], [0.2222222222222222, \"#7201a8\"], [0.3333333333333333, \"#9c179e\"], [0.4444444444444444, \"#bd3786\"], [0.5555555555555556, \"#d8576b\"], [0.6666666666666666, \"#ed7953\"], [0.7777777777777778, \"#fb9f3a\"], [0.8888888888888888, \"#fdca26\"], [1.0, \"#f0f921\"]], \"type\": \"heatmapgl\"}], \"histogram\": [{\"marker\": {\"colorbar\": {\"outlinewidth\": 0, \"ticks\": \"\"}}, \"type\": \"histogram\"}], \"histogram2d\": [{\"colorbar\": {\"outlinewidth\": 0, \"ticks\": \"\"}, \"colorscale\": [[0.0, \"#0d0887\"], [0.1111111111111111, \"#46039f\"], [0.2222222222222222, \"#7201a8\"], [0.3333333333333333, \"#9c179e\"], [0.4444444444444444, \"#bd3786\"], [0.5555555555555556, \"#d8576b\"], [0.6666666666666666, \"#ed7953\"], [0.7777777777777778, \"#fb9f3a\"], [0.8888888888888888, \"#fdca26\"], [1.0, \"#f0f921\"]], \"type\": \"histogram2d\"}], \"histogram2dcontour\": [{\"colorbar\": {\"outlinewidth\": 0, \"ticks\": \"\"}, \"colorscale\": [[0.0, \"#0d0887\"], [0.1111111111111111, \"#46039f\"], [0.2222222222222222, \"#7201a8\"], [0.3333333333333333, \"#9c179e\"], [0.4444444444444444, \"#bd3786\"], [0.5555555555555556, \"#d8576b\"], [0.6666666666666666, \"#ed7953\"], [0.7777777777777778, \"#fb9f3a\"], [0.8888888888888888, \"#fdca26\"], [1.0, \"#f0f921\"]], \"type\": \"histogram2dcontour\"}], \"mesh3d\": [{\"colorbar\": {\"outlinewidth\": 0, \"ticks\": \"\"}, \"type\": \"mesh3d\"}], \"parcoords\": [{\"line\": {\"colorbar\": {\"outlinewidth\": 0, \"ticks\": \"\"}}, \"type\": \"parcoords\"}], \"pie\": [{\"automargin\": true, \"type\": \"pie\"}], \"scatter\": [{\"marker\": {\"colorbar\": {\"outlinewidth\": 0, \"ticks\": \"\"}}, \"type\": \"scatter\"}], \"scatter3d\": [{\"line\": {\"colorbar\": {\"outlinewidth\": 0, \"ticks\": \"\"}}, \"marker\": {\"colorbar\": {\"outlinewidth\": 0, \"ticks\": \"\"}}, \"type\": \"scatter3d\"}], \"scattercarpet\": [{\"marker\": {\"colorbar\": {\"outlinewidth\": 0, \"ticks\": \"\"}}, \"type\": \"scattercarpet\"}], \"scattergeo\": [{\"marker\": {\"colorbar\": {\"outlinewidth\": 0, \"ticks\": \"\"}}, \"type\": \"scattergeo\"}], \"scattergl\": [{\"marker\": {\"colorbar\": {\"outlinewidth\": 0, \"ticks\": \"\"}}, \"type\": \"scattergl\"}], \"scattermapbox\": [{\"marker\": {\"colorbar\": {\"outlinewidth\": 0, \"ticks\": \"\"}}, \"type\": \"scattermapbox\"}], \"scatterpolar\": [{\"marker\": {\"colorbar\": {\"outlinewidth\": 0, \"ticks\": \"\"}}, \"type\": \"scatterpolar\"}], \"scatterpolargl\": [{\"marker\": {\"colorbar\": {\"outlinewidth\": 0, \"ticks\": \"\"}}, \"type\": \"scatterpolargl\"}], \"scatterternary\": [{\"marker\": {\"colorbar\": {\"outlinewidth\": 0, \"ticks\": \"\"}}, \"type\": \"scatterternary\"}], \"surface\": [{\"colorbar\": {\"outlinewidth\": 0, \"ticks\": \"\"}, \"colorscale\": [[0.0, \"#0d0887\"], [0.1111111111111111, \"#46039f\"], [0.2222222222222222, \"#7201a8\"], [0.3333333333333333, \"#9c179e\"], [0.4444444444444444, \"#bd3786\"], [0.5555555555555556, \"#d8576b\"], [0.6666666666666666, \"#ed7953\"], [0.7777777777777778, \"#fb9f3a\"], [0.8888888888888888, \"#fdca26\"], [1.0, \"#f0f921\"]], \"type\": \"surface\"}], \"table\": [{\"cells\": {\"fill\": {\"color\": \"#EBF0F8\"}, \"line\": {\"color\": \"white\"}}, \"header\": {\"fill\": {\"color\": \"#C8D4E3\"}, \"line\": {\"color\": \"white\"}}, \"type\": \"table\"}]}, \"layout\": {\"annotationdefaults\": {\"arrowcolor\": \"#2a3f5f\", \"arrowhead\": 0, \"arrowwidth\": 1}, \"coloraxis\": {\"colorbar\": {\"outlinewidth\": 0, \"ticks\": \"\"}}, \"colorscale\": {\"diverging\": [[0, \"#8e0152\"], [0.1, \"#c51b7d\"], [0.2, \"#de77ae\"], [0.3, \"#f1b6da\"], [0.4, \"#fde0ef\"], [0.5, \"#f7f7f7\"], [0.6, \"#e6f5d0\"], [0.7, \"#b8e186\"], [0.8, \"#7fbc41\"], [0.9, \"#4d9221\"], [1, \"#276419\"]], \"sequential\": [[0.0, \"#0d0887\"], [0.1111111111111111, \"#46039f\"], [0.2222222222222222, \"#7201a8\"], [0.3333333333333333, \"#9c179e\"], [0.4444444444444444, \"#bd3786\"], [0.5555555555555556, \"#d8576b\"], [0.6666666666666666, \"#ed7953\"], [0.7777777777777778, \"#fb9f3a\"], [0.8888888888888888, \"#fdca26\"], [1.0, \"#f0f921\"]], \"sequentialminus\": [[0.0, \"#0d0887\"], [0.1111111111111111, \"#46039f\"], [0.2222222222222222, \"#7201a8\"], [0.3333333333333333, \"#9c179e\"], [0.4444444444444444, \"#bd3786\"], [0.5555555555555556, \"#d8576b\"], [0.6666666666666666, \"#ed7953\"], [0.7777777777777778, \"#fb9f3a\"], [0.8888888888888888, \"#fdca26\"], [1.0, \"#f0f921\"]]}, \"colorway\": [\"#636efa\", \"#EF553B\", \"#00cc96\", \"#ab63fa\", \"#FFA15A\", \"#19d3f3\", \"#FF6692\", \"#B6E880\", \"#FF97FF\", \"#FECB52\"], \"font\": {\"color\": \"#2a3f5f\"}, \"geo\": {\"bgcolor\": \"white\", \"lakecolor\": \"white\", \"landcolor\": \"#E5ECF6\", \"showlakes\": true, \"showland\": true, \"subunitcolor\": \"white\"}, \"hoverlabel\": {\"align\": \"left\"}, \"hovermode\": \"closest\", \"mapbox\": {\"style\": \"light\"}, \"paper_bgcolor\": \"white\", \"plot_bgcolor\": \"#E5ECF6\", \"polar\": {\"angularaxis\": {\"gridcolor\": \"white\", \"linecolor\": \"white\", \"ticks\": \"\"}, \"bgcolor\": \"#E5ECF6\", \"radialaxis\": {\"gridcolor\": \"white\", \"linecolor\": \"white\", \"ticks\": \"\"}}, \"scene\": {\"xaxis\": {\"backgroundcolor\": \"#E5ECF6\", \"gridcolor\": \"white\", \"gridwidth\": 2, \"linecolor\": \"white\", \"showbackground\": true, \"ticks\": \"\", \"zerolinecolor\": \"white\"}, \"yaxis\": {\"backgroundcolor\": \"#E5ECF6\", \"gridcolor\": \"white\", \"gridwidth\": 2, \"linecolor\": \"white\", \"showbackground\": true, \"ticks\": \"\", \"zerolinecolor\": \"white\"}, \"zaxis\": {\"backgroundcolor\": \"#E5ECF6\", \"gridcolor\": \"white\", \"gridwidth\": 2, \"linecolor\": \"white\", \"showbackground\": true, \"ticks\": \"\", \"zerolinecolor\": \"white\"}}, \"shapedefaults\": {\"line\": {\"color\": \"#2a3f5f\"}}, \"ternary\": {\"aaxis\": {\"gridcolor\": \"white\", \"linecolor\": \"white\", \"ticks\": \"\"}, \"baxis\": {\"gridcolor\": \"white\", \"linecolor\": \"white\", \"ticks\": \"\"}, \"bgcolor\": \"#E5ECF6\", \"caxis\": {\"gridcolor\": \"white\", \"linecolor\": \"white\", \"ticks\": \"\"}}, \"title\": {\"x\": 0.05}, \"xaxis\": {\"automargin\": true, \"gridcolor\": \"white\", \"linecolor\": \"white\", \"ticks\": \"\", \"title\": {\"standoff\": 15}, \"zerolinecolor\": \"white\", \"zerolinewidth\": 2}, \"yaxis\": {\"automargin\": true, \"gridcolor\": \"white\", \"linecolor\": \"white\", \"ticks\": \"\", \"title\": {\"standoff\": 15}, \"zerolinecolor\": \"white\", \"zerolinewidth\": 2}}}},\n",
       "                        {\"responsive\": true}\n",
       "                    ).then(function(){\n",
       "                            \n",
       "var gd = document.getElementById('bc67e02b-3a2b-4e14-aa63-968107bb6e97');\n",
       "var x = new MutationObserver(function (mutations, observer) {{\n",
       "        var display = window.getComputedStyle(gd).display;\n",
       "        if (!display || display === 'none') {{\n",
       "            console.log([gd, 'removed!']);\n",
       "            Plotly.purge(gd);\n",
       "            observer.disconnect();\n",
       "        }}\n",
       "}});\n",
       "\n",
       "// Listen for the removal of the full notebook cells\n",
       "var notebookContainer = gd.closest('#notebook-container');\n",
       "if (notebookContainer) {{\n",
       "    x.observe(notebookContainer, {childList: true});\n",
       "}}\n",
       "\n",
       "// Listen for the clearing of the current output cell\n",
       "var outputEl = gd.closest('.output');\n",
       "if (outputEl) {{\n",
       "    x.observe(outputEl, {childList: true});\n",
       "}}\n",
       "\n",
       "                        })\n",
       "                };\n",
       "                });\n",
       "            </script>\n",
       "        </div>"
      ]
     },
     "metadata": {},
     "output_type": "display_data"
    }
   ],
   "source": [
    "import plotly.graph_objects as go\n",
    "\n",
    "fig = go.Figure()\n",
    "# Add traces\n",
    "fig.add_trace(go.Scatter(x=df_accuracy.index,\n",
    "                         y=abs(df_accuracy.our_pred),\n",
    "                        mode='lines+markers',\n",
    "                        name='notre prediction'))\n",
    "fig.add_trace(go.Scatter(x=df_accuracy.index,\n",
    "                         y=abs(df_accuracy.pred_surprise),\n",
    "                    mode='lines+markers',\n",
    "                    name='prediction des analystes'))\n",
    "\n",
    "\n",
    "fig.show()"
   ]
  },
  {
   "cell_type": "code",
   "execution_count": 95,
   "metadata": {},
   "outputs": [
    {
     "data": {
      "text/plain": [
       "<matplotlib.collections.PathCollection at 0x26410f1e508>"
      ]
     },
     "execution_count": 95,
     "metadata": {},
     "output_type": "execute_result"
    },
    {
     "data": {
      "image/png": "[encoded data removed]",
      "text/plain": [
       "<Figure size 1120x560 with 1 Axes>"
      ]
     },
     "metadata": {},
     "output_type": "display_data"
    }
   ],
   "source": [
    "fig=plt.figure(figsize=(14, 7), dpi= 80, facecolor='w', edgecolor='k')\n",
    "plt.scatter(df_reg[df_accuracy.index == df_reg.index]['pred_surprise'][18],\n",
    "            df_accuracy[df_accuracy.Name == 'LEGGETT& PLATT']['y_test'][18])"
   ]
  },
  {
   "cell_type": "code",
   "execution_count": 96,
   "metadata": {},
   "outputs": [
    {
     "ename": "ValueError",
     "evalue": "Lengths must match to compare",
     "output_type": "error",
     "traceback": [
      "\u001b[1;31m---------------------------------------------------------------------------\u001b[0m",
      "\u001b[1;31mValueError\u001b[0m                                Traceback (most recent call last)",
      "\u001b[1;32m<ipython-input-96-1a2821be6fee>\u001b[0m in \u001b[0;36m<module>\u001b[1;34m\u001b[0m\n\u001b[1;32m----> 1\u001b[1;33m \u001b[0mdf_reg\u001b[0m\u001b[1;33m[\u001b[0m\u001b[0mdf_reg\u001b[0m\u001b[1;33m.\u001b[0m\u001b[0mindex\u001b[0m \u001b[1;33m==\u001b[0m \u001b[0mdf_accuracy\u001b[0m\u001b[1;33m.\u001b[0m\u001b[0mindex\u001b[0m\u001b[1;33m]\u001b[0m\u001b[1;33m[\u001b[0m\u001b[1;34m'pred_surprise'\u001b[0m\u001b[1;33m]\u001b[0m\u001b[1;33m[\u001b[0m\u001b[1;36m18\u001b[0m\u001b[1;33m]\u001b[0m\u001b[1;33m\u001b[0m\u001b[1;33m\u001b[0m\u001b[0m\n\u001b[0m",
      "\u001b[1;32m~\\Anaconda3\\envs\\prod\\lib\\site-packages\\pandas\\core\\indexes\\base.py\u001b[0m in \u001b[0;36mcmp_method\u001b[1;34m(self, other)\u001b[0m\n\u001b[0;32m    103\u001b[0m         \u001b[1;32mif\u001b[0m \u001b[0misinstance\u001b[0m\u001b[1;33m(\u001b[0m\u001b[0mother\u001b[0m\u001b[1;33m,\u001b[0m \u001b[1;33m(\u001b[0m\u001b[0mnp\u001b[0m\u001b[1;33m.\u001b[0m\u001b[0mndarray\u001b[0m\u001b[1;33m,\u001b[0m \u001b[0mIndex\u001b[0m\u001b[1;33m,\u001b[0m \u001b[0mABCSeries\u001b[0m\u001b[1;33m,\u001b[0m \u001b[0mExtensionArray\u001b[0m\u001b[1;33m)\u001b[0m\u001b[1;33m)\u001b[0m\u001b[1;33m:\u001b[0m\u001b[1;33m\u001b[0m\u001b[1;33m\u001b[0m\u001b[0m\n\u001b[0;32m    104\u001b[0m             \u001b[1;32mif\u001b[0m \u001b[0mother\u001b[0m\u001b[1;33m.\u001b[0m\u001b[0mndim\u001b[0m \u001b[1;33m>\u001b[0m \u001b[1;36m0\u001b[0m \u001b[1;32mand\u001b[0m \u001b[0mlen\u001b[0m\u001b[1;33m(\u001b[0m\u001b[0mself\u001b[0m\u001b[1;33m)\u001b[0m \u001b[1;33m!=\u001b[0m \u001b[0mlen\u001b[0m\u001b[1;33m(\u001b[0m\u001b[0mother\u001b[0m\u001b[1;33m)\u001b[0m\u001b[1;33m:\u001b[0m\u001b[1;33m\u001b[0m\u001b[1;33m\u001b[0m\u001b[0m\n\u001b[1;32m--> 105\u001b[1;33m                 \u001b[1;32mraise\u001b[0m \u001b[0mValueError\u001b[0m\u001b[1;33m(\u001b[0m\u001b[1;34m\"Lengths must match to compare\"\u001b[0m\u001b[1;33m)\u001b[0m\u001b[1;33m\u001b[0m\u001b[1;33m\u001b[0m\u001b[0m\n\u001b[0m\u001b[0;32m    106\u001b[0m \u001b[1;33m\u001b[0m\u001b[0m\n\u001b[0;32m    107\u001b[0m         \u001b[1;32mif\u001b[0m \u001b[0mis_object_dtype\u001b[0m\u001b[1;33m(\u001b[0m\u001b[0mself\u001b[0m\u001b[1;33m)\u001b[0m \u001b[1;32mand\u001b[0m \u001b[0misinstance\u001b[0m\u001b[1;33m(\u001b[0m\u001b[0mother\u001b[0m\u001b[1;33m,\u001b[0m \u001b[0mABCCategorical\u001b[0m\u001b[1;33m)\u001b[0m\u001b[1;33m:\u001b[0m\u001b[1;33m\u001b[0m\u001b[1;33m\u001b[0m\u001b[0m\n",
      "\u001b[1;31mValueError\u001b[0m: Lengths must match to compare"
     ]
    }
   ],
   "source": [
    "df_reg[df_reg.index == df_accuracy.index]['pred_surprise'][18]"
   ]
  },
  {
   "cell_type": "code",
   "execution_count": 117,
   "metadata": {},
   "outputs": [
    {
     "data": {
      "text/plain": [
       "array([ 0,  1,  2,  3,  4,  5,  6,  7,  8,  9, 10, 11, 12, 13, 14, 15, 16,\n",
       "       17, 18, 19, 20, 21, 22, 23, 24, 25, 26, 27, 28, 29, 30, 31, 32, 33,\n",
       "       34, 35, 36, 37, 38, 39, 40, 41, 42, 43, 44], dtype=int64)"
      ]
     },
     "execution_count": 117,
     "metadata": {},
     "output_type": "execute_result"
    }
   ],
   "source": [
    "df_accuracy.index.values"
   ]
  },
  {
   "cell_type": "code",
   "execution_count": null,
   "metadata": {},
   "outputs": [],
   "source": []
  }
 ],
 "metadata": {
  "kernelspec": {
   "display_name": "Python 3",
   "language": "python",
   "name": "python3"
  },
  "language_info": {
   "codemirror_mode": {
    "name": "ipython",
    "version": 3
   },
   "file_extension": ".py",
   "mimetype": "text/x-python",
   "name": "python",
   "nbconvert_exporter": "python",
   "pygments_lexer": "ipython3",
   "version": "3.7.6"
  }
 },
 "nbformat": 4,
 "nbformat_minor": 2
}
